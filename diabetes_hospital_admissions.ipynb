{
 "cells": [
  {
   "cell_type": "markdown",
   "metadata": {},
   "source": [
    "# Diabetes 130-US hospitals for years 1999-2008"
   ]
  },
  {
   "cell_type": "markdown",
   "metadata": {},
   "source": [
    "Dataset consists of hospital admissions of length between one and 14 days that did not result in a patient death or discharge to a hospice. Each encounter corresponds to a unique patient diagnosed with diabetes, although the primary diagnosis may be different. During each of the analyzed encounters, lab tests were ordered and medication was administered.\n",
    "Since we are primarily interested in factors that lead to early readmission, we defined the readmission attribute (outcome) as having two values: “readmitted,” if the patient was readmitted within 30 days of discharge or “otherwise,” which covers both readmission after 30 days and no readmission at all."
   ]
  },
  {
   "cell_type": "markdown",
   "metadata": {},
   "source": [
    "#### **Data Set Description**\n",
    "* ***Encounter ID***: Unique identifier of an encounter\n",
    "* ***Patient number***: Unique identifier of a patient\n",
    "* ***Race Values***: Caucasian, Asian, African American, Hispanic, and other\n",
    "* ***Gender Values***: male, female, and unknown/invalid\n",
    "* ***Age***: Grouped in 10-year intervals: 0, 10), 10, 20), …, 90, 100)\n",
    "* ***Weight***: Weight in pounds\n",
    "* ***Admission type***: Integer identifier corresponding to 9 distinct values, for example, emergency, urgent, elective, newborn, and not available\n",
    "* ***Discharge disposition***: Integer identifier corresponding to 29 distinct values, for example, discharged to home, expired, and not available\n",
    "* ***Admission source***: Integer identifier corresponding to 21 distinct values, for example, physician referral, emergency room, and transfer from a hospital\n",
    "* ***Time in hospital***: Integer number of days between admission and discharge\n",
    "* ***Payer code***: Integer identifier corresponding to 23 distinct values, for example, Blue Cross/Blue Shield, Medicare, and self-pay Medical\n",
    "* ***Medical specialty***: Integer identifier of a specialty of the admitting physician, corresponding to 84 distinct values, for example, cardiology, internal medicine, family/general practice, and surgeon\n",
    "* ***Number of lab procedures***: Number of lab tests performed during the encounter\n",
    "* ***Number of procedures***: Numeric Number of procedures (other than lab tests) performed during the encounter\n",
    "* ***Number of medications***: Number of distinct generic names administered during the encounter\n",
    "* ***Number of outpatient visits***: Number of outpatient visits of the patient in the year preceding the encounter\n",
    "* ***Number of emergency visits***: Number of emergency visits of the patient in the year preceding the encounter\n",
    "* ***Number of inpatient visits***: Number of inpatient visits of the patient in the year preceding the encounter\n",
    "* ***Diagnosis 1***: The primary diagnosis (coded as first three digits of ICD9); 848 distinct values\n",
    "* ***Diagnosis 2***: Secondary diagnosis (coded as first three digits of ICD9); 923 distinct values\n",
    "* ***Diagnosis 3***: Additional secondary diagnosis (coded as first three digits of ICD9); 954 distinct values\n",
    "* ***Number of diagnoses***: Number of diagnoses entered to the system 0%\n",
    "* ***Glucose serum test***: result Indicates the range of the result or if the test was not taken. Values: “>200,” “>300,” “normal,” and “none” if not measured\n",
    "* ***A1c test result***: Indicates the range of the result or if the test was not taken. Values: “>8” if the result was greater than 8%, “>7” if the result was greater than 7% but less than 8%, “normal” if the result was less than 7%, and “none” if not measured.\n",
    "Change of medications Indicates if there was a change in diabetic medications (either dosage or generic name). Values: “change” and “no change”\n",
    "* ***Diabetes medications***: Indicates if there was any diabetic medication prescribed. Values: “yes” and “no”\n",
    "* 24 features for medications For the generic names: metformin, repaglinide, nateglinide, chlorpropamide, glimepiride, acetohexamide, glipizide, glyburide, tolbutamide, pioglitazone, rosiglitazone, acarbose, miglitol, troglitazone, tolazamide, examide, sitagliptin, insulin, glyburide-metformin, glipizide-metformin, glimepiride- pioglitazone, metformin-rosiglitazone, and metformin- pioglitazone, the feature indicates whether the drug was prescribed or there was a change in the dosage. Values: “up” if the dosage was increased during the encounter, “down” if the dosage was decreased, “steady” if the dosage did not change, and “no” if the drug was not prescribed\n",
    "* ***Readmitted***: Days to inpatient readmission. Values: “<30” if the patient was readmitted in less than 30 days, “>30” if the patient was readmitted in more than 30 days, and “No” for no record of readmission"
   ]
  },
  {
   "cell_type": "code",
   "execution_count": 1,
   "metadata": {},
   "outputs": [],
   "source": [
    "import os\n",
    "import pandas as pd\n",
    "import numpy as np"
   ]
  },
  {
   "cell_type": "code",
   "execution_count": 2,
   "metadata": {},
   "outputs": [
    {
     "data": {
      "text/html": [
       "<div>\n",
       "<style scoped>\n",
       "    .dataframe tbody tr th:only-of-type {\n",
       "        vertical-align: middle;\n",
       "    }\n",
       "\n",
       "    .dataframe tbody tr th {\n",
       "        vertical-align: top;\n",
       "    }\n",
       "\n",
       "    .dataframe thead th {\n",
       "        text-align: right;\n",
       "    }\n",
       "</style>\n",
       "<table border=\"1\" class=\"dataframe\">\n",
       "  <thead>\n",
       "    <tr style=\"text-align: right;\">\n",
       "      <th></th>\n",
       "      <th>encounter_id</th>\n",
       "      <th>patient_nbr</th>\n",
       "      <th>race</th>\n",
       "      <th>gender</th>\n",
       "      <th>age</th>\n",
       "      <th>weight</th>\n",
       "      <th>admission_type_id</th>\n",
       "      <th>discharge_disposition_id</th>\n",
       "      <th>admission_source_id</th>\n",
       "      <th>time_in_hospital</th>\n",
       "      <th>...</th>\n",
       "      <th>citoglipton</th>\n",
       "      <th>insulin</th>\n",
       "      <th>glyburide-metformin</th>\n",
       "      <th>glipizide-metformin</th>\n",
       "      <th>glimepiride-pioglitazone</th>\n",
       "      <th>metformin-rosiglitazone</th>\n",
       "      <th>metformin-pioglitazone</th>\n",
       "      <th>change</th>\n",
       "      <th>diabetesMed</th>\n",
       "      <th>readmitted</th>\n",
       "    </tr>\n",
       "  </thead>\n",
       "  <tbody>\n",
       "    <tr>\n",
       "      <th>0</th>\n",
       "      <td>2278392</td>\n",
       "      <td>8222157</td>\n",
       "      <td>Caucasian</td>\n",
       "      <td>Female</td>\n",
       "      <td>[0-10)</td>\n",
       "      <td>?</td>\n",
       "      <td>6</td>\n",
       "      <td>25</td>\n",
       "      <td>1</td>\n",
       "      <td>1</td>\n",
       "      <td>...</td>\n",
       "      <td>No</td>\n",
       "      <td>No</td>\n",
       "      <td>No</td>\n",
       "      <td>No</td>\n",
       "      <td>No</td>\n",
       "      <td>No</td>\n",
       "      <td>No</td>\n",
       "      <td>No</td>\n",
       "      <td>No</td>\n",
       "      <td>NO</td>\n",
       "    </tr>\n",
       "    <tr>\n",
       "      <th>1</th>\n",
       "      <td>149190</td>\n",
       "      <td>55629189</td>\n",
       "      <td>Caucasian</td>\n",
       "      <td>Female</td>\n",
       "      <td>[10-20)</td>\n",
       "      <td>?</td>\n",
       "      <td>1</td>\n",
       "      <td>1</td>\n",
       "      <td>7</td>\n",
       "      <td>3</td>\n",
       "      <td>...</td>\n",
       "      <td>No</td>\n",
       "      <td>Up</td>\n",
       "      <td>No</td>\n",
       "      <td>No</td>\n",
       "      <td>No</td>\n",
       "      <td>No</td>\n",
       "      <td>No</td>\n",
       "      <td>Ch</td>\n",
       "      <td>Yes</td>\n",
       "      <td>&gt;30</td>\n",
       "    </tr>\n",
       "    <tr>\n",
       "      <th>2</th>\n",
       "      <td>64410</td>\n",
       "      <td>86047875</td>\n",
       "      <td>AfricanAmerican</td>\n",
       "      <td>Female</td>\n",
       "      <td>[20-30)</td>\n",
       "      <td>?</td>\n",
       "      <td>1</td>\n",
       "      <td>1</td>\n",
       "      <td>7</td>\n",
       "      <td>2</td>\n",
       "      <td>...</td>\n",
       "      <td>No</td>\n",
       "      <td>No</td>\n",
       "      <td>No</td>\n",
       "      <td>No</td>\n",
       "      <td>No</td>\n",
       "      <td>No</td>\n",
       "      <td>No</td>\n",
       "      <td>No</td>\n",
       "      <td>Yes</td>\n",
       "      <td>NO</td>\n",
       "    </tr>\n",
       "    <tr>\n",
       "      <th>3</th>\n",
       "      <td>500364</td>\n",
       "      <td>82442376</td>\n",
       "      <td>Caucasian</td>\n",
       "      <td>Male</td>\n",
       "      <td>[30-40)</td>\n",
       "      <td>?</td>\n",
       "      <td>1</td>\n",
       "      <td>1</td>\n",
       "      <td>7</td>\n",
       "      <td>2</td>\n",
       "      <td>...</td>\n",
       "      <td>No</td>\n",
       "      <td>Up</td>\n",
       "      <td>No</td>\n",
       "      <td>No</td>\n",
       "      <td>No</td>\n",
       "      <td>No</td>\n",
       "      <td>No</td>\n",
       "      <td>Ch</td>\n",
       "      <td>Yes</td>\n",
       "      <td>NO</td>\n",
       "    </tr>\n",
       "    <tr>\n",
       "      <th>4</th>\n",
       "      <td>16680</td>\n",
       "      <td>42519267</td>\n",
       "      <td>Caucasian</td>\n",
       "      <td>Male</td>\n",
       "      <td>[40-50)</td>\n",
       "      <td>?</td>\n",
       "      <td>1</td>\n",
       "      <td>1</td>\n",
       "      <td>7</td>\n",
       "      <td>1</td>\n",
       "      <td>...</td>\n",
       "      <td>No</td>\n",
       "      <td>Steady</td>\n",
       "      <td>No</td>\n",
       "      <td>No</td>\n",
       "      <td>No</td>\n",
       "      <td>No</td>\n",
       "      <td>No</td>\n",
       "      <td>Ch</td>\n",
       "      <td>Yes</td>\n",
       "      <td>NO</td>\n",
       "    </tr>\n",
       "    <tr>\n",
       "      <th>5</th>\n",
       "      <td>35754</td>\n",
       "      <td>82637451</td>\n",
       "      <td>Caucasian</td>\n",
       "      <td>Male</td>\n",
       "      <td>[50-60)</td>\n",
       "      <td>?</td>\n",
       "      <td>2</td>\n",
       "      <td>1</td>\n",
       "      <td>2</td>\n",
       "      <td>3</td>\n",
       "      <td>...</td>\n",
       "      <td>No</td>\n",
       "      <td>Steady</td>\n",
       "      <td>No</td>\n",
       "      <td>No</td>\n",
       "      <td>No</td>\n",
       "      <td>No</td>\n",
       "      <td>No</td>\n",
       "      <td>No</td>\n",
       "      <td>Yes</td>\n",
       "      <td>&gt;30</td>\n",
       "    </tr>\n",
       "    <tr>\n",
       "      <th>6</th>\n",
       "      <td>55842</td>\n",
       "      <td>84259809</td>\n",
       "      <td>Caucasian</td>\n",
       "      <td>Male</td>\n",
       "      <td>[60-70)</td>\n",
       "      <td>?</td>\n",
       "      <td>3</td>\n",
       "      <td>1</td>\n",
       "      <td>2</td>\n",
       "      <td>4</td>\n",
       "      <td>...</td>\n",
       "      <td>No</td>\n",
       "      <td>Steady</td>\n",
       "      <td>No</td>\n",
       "      <td>No</td>\n",
       "      <td>No</td>\n",
       "      <td>No</td>\n",
       "      <td>No</td>\n",
       "      <td>Ch</td>\n",
       "      <td>Yes</td>\n",
       "      <td>NO</td>\n",
       "    </tr>\n",
       "    <tr>\n",
       "      <th>7</th>\n",
       "      <td>63768</td>\n",
       "      <td>114882984</td>\n",
       "      <td>Caucasian</td>\n",
       "      <td>Male</td>\n",
       "      <td>[70-80)</td>\n",
       "      <td>?</td>\n",
       "      <td>1</td>\n",
       "      <td>1</td>\n",
       "      <td>7</td>\n",
       "      <td>5</td>\n",
       "      <td>...</td>\n",
       "      <td>No</td>\n",
       "      <td>No</td>\n",
       "      <td>No</td>\n",
       "      <td>No</td>\n",
       "      <td>No</td>\n",
       "      <td>No</td>\n",
       "      <td>No</td>\n",
       "      <td>No</td>\n",
       "      <td>Yes</td>\n",
       "      <td>&gt;30</td>\n",
       "    </tr>\n",
       "    <tr>\n",
       "      <th>8</th>\n",
       "      <td>12522</td>\n",
       "      <td>48330783</td>\n",
       "      <td>Caucasian</td>\n",
       "      <td>Female</td>\n",
       "      <td>[80-90)</td>\n",
       "      <td>?</td>\n",
       "      <td>2</td>\n",
       "      <td>1</td>\n",
       "      <td>4</td>\n",
       "      <td>13</td>\n",
       "      <td>...</td>\n",
       "      <td>No</td>\n",
       "      <td>Steady</td>\n",
       "      <td>No</td>\n",
       "      <td>No</td>\n",
       "      <td>No</td>\n",
       "      <td>No</td>\n",
       "      <td>No</td>\n",
       "      <td>Ch</td>\n",
       "      <td>Yes</td>\n",
       "      <td>NO</td>\n",
       "    </tr>\n",
       "    <tr>\n",
       "      <th>9</th>\n",
       "      <td>15738</td>\n",
       "      <td>63555939</td>\n",
       "      <td>Caucasian</td>\n",
       "      <td>Female</td>\n",
       "      <td>[90-100)</td>\n",
       "      <td>?</td>\n",
       "      <td>3</td>\n",
       "      <td>3</td>\n",
       "      <td>4</td>\n",
       "      <td>12</td>\n",
       "      <td>...</td>\n",
       "      <td>No</td>\n",
       "      <td>Steady</td>\n",
       "      <td>No</td>\n",
       "      <td>No</td>\n",
       "      <td>No</td>\n",
       "      <td>No</td>\n",
       "      <td>No</td>\n",
       "      <td>Ch</td>\n",
       "      <td>Yes</td>\n",
       "      <td>NO</td>\n",
       "    </tr>\n",
       "  </tbody>\n",
       "</table>\n",
       "<p>10 rows × 50 columns</p>\n",
       "</div>"
      ],
      "text/plain": [
       "   encounter_id  patient_nbr             race  gender       age weight  \\\n",
       "0       2278392      8222157        Caucasian  Female    [0-10)      ?   \n",
       "1        149190     55629189        Caucasian  Female   [10-20)      ?   \n",
       "2         64410     86047875  AfricanAmerican  Female   [20-30)      ?   \n",
       "3        500364     82442376        Caucasian    Male   [30-40)      ?   \n",
       "4         16680     42519267        Caucasian    Male   [40-50)      ?   \n",
       "5         35754     82637451        Caucasian    Male   [50-60)      ?   \n",
       "6         55842     84259809        Caucasian    Male   [60-70)      ?   \n",
       "7         63768    114882984        Caucasian    Male   [70-80)      ?   \n",
       "8         12522     48330783        Caucasian  Female   [80-90)      ?   \n",
       "9         15738     63555939        Caucasian  Female  [90-100)      ?   \n",
       "\n",
       "   admission_type_id  discharge_disposition_id  admission_source_id  \\\n",
       "0                  6                        25                    1   \n",
       "1                  1                         1                    7   \n",
       "2                  1                         1                    7   \n",
       "3                  1                         1                    7   \n",
       "4                  1                         1                    7   \n",
       "5                  2                         1                    2   \n",
       "6                  3                         1                    2   \n",
       "7                  1                         1                    7   \n",
       "8                  2                         1                    4   \n",
       "9                  3                         3                    4   \n",
       "\n",
       "   time_in_hospital  ... citoglipton insulin  glyburide-metformin  \\\n",
       "0                 1  ...          No      No                   No   \n",
       "1                 3  ...          No      Up                   No   \n",
       "2                 2  ...          No      No                   No   \n",
       "3                 2  ...          No      Up                   No   \n",
       "4                 1  ...          No  Steady                   No   \n",
       "5                 3  ...          No  Steady                   No   \n",
       "6                 4  ...          No  Steady                   No   \n",
       "7                 5  ...          No      No                   No   \n",
       "8                13  ...          No  Steady                   No   \n",
       "9                12  ...          No  Steady                   No   \n",
       "\n",
       "   glipizide-metformin  glimepiride-pioglitazone  metformin-rosiglitazone  \\\n",
       "0                   No                        No                       No   \n",
       "1                   No                        No                       No   \n",
       "2                   No                        No                       No   \n",
       "3                   No                        No                       No   \n",
       "4                   No                        No                       No   \n",
       "5                   No                        No                       No   \n",
       "6                   No                        No                       No   \n",
       "7                   No                        No                       No   \n",
       "8                   No                        No                       No   \n",
       "9                   No                        No                       No   \n",
       "\n",
       "   metformin-pioglitazone  change diabetesMed readmitted  \n",
       "0                      No      No          No         NO  \n",
       "1                      No      Ch         Yes        >30  \n",
       "2                      No      No         Yes         NO  \n",
       "3                      No      Ch         Yes         NO  \n",
       "4                      No      Ch         Yes         NO  \n",
       "5                      No      No         Yes        >30  \n",
       "6                      No      Ch         Yes         NO  \n",
       "7                      No      No         Yes        >30  \n",
       "8                      No      Ch         Yes         NO  \n",
       "9                      No      Ch         Yes         NO  \n",
       "\n",
       "[10 rows x 50 columns]"
      ]
     },
     "execution_count": 2,
     "metadata": {},
     "output_type": "execute_result"
    }
   ],
   "source": [
    "df = pd.read_csv('diabetic_data.csv', keep_default_na=' ')\n",
    "df.head(10)"
   ]
  },
  {
   "cell_type": "code",
   "execution_count": 3,
   "metadata": {},
   "outputs": [
    {
     "data": {
      "text/plain": [
       "(101766, 50)"
      ]
     },
     "execution_count": 3,
     "metadata": {},
     "output_type": "execute_result"
    }
   ],
   "source": [
    "df.shape"
   ]
  },
  {
   "cell_type": "code",
   "execution_count": 4,
   "metadata": {},
   "outputs": [
    {
     "name": "stdout",
     "output_type": "stream",
     "text": [
      "<class 'pandas.core.frame.DataFrame'>\n",
      "RangeIndex: 101766 entries, 0 to 101765\n",
      "Data columns (total 50 columns):\n",
      " #   Column                    Non-Null Count   Dtype \n",
      "---  ------                    --------------   ----- \n",
      " 0   encounter_id              101766 non-null  int64 \n",
      " 1   patient_nbr               101766 non-null  int64 \n",
      " 2   race                      101766 non-null  object\n",
      " 3   gender                    101766 non-null  object\n",
      " 4   age                       101766 non-null  object\n",
      " 5   weight                    101766 non-null  object\n",
      " 6   admission_type_id         101766 non-null  int64 \n",
      " 7   discharge_disposition_id  101766 non-null  int64 \n",
      " 8   admission_source_id       101766 non-null  int64 \n",
      " 9   time_in_hospital          101766 non-null  int64 \n",
      " 10  payer_code                101766 non-null  object\n",
      " 11  medical_specialty         101766 non-null  object\n",
      " 12  num_lab_procedures        101766 non-null  int64 \n",
      " 13  num_procedures            101766 non-null  int64 \n",
      " 14  num_medications           101766 non-null  int64 \n",
      " 15  number_outpatient         101766 non-null  int64 \n",
      " 16  number_emergency          101766 non-null  int64 \n",
      " 17  number_inpatient          101766 non-null  int64 \n",
      " 18  diag_1                    101766 non-null  object\n",
      " 19  diag_2                    101766 non-null  object\n",
      " 20  diag_3                    101766 non-null  object\n",
      " 21  number_diagnoses          101766 non-null  int64 \n",
      " 22  max_glu_serum             101766 non-null  object\n",
      " 23  A1Cresult                 101766 non-null  object\n",
      " 24  metformin                 101766 non-null  object\n",
      " 25  repaglinide               101766 non-null  object\n",
      " 26  nateglinide               101766 non-null  object\n",
      " 27  chlorpropamide            101766 non-null  object\n",
      " 28  glimepiride               101766 non-null  object\n",
      " 29  acetohexamide             101766 non-null  object\n",
      " 30  glipizide                 101766 non-null  object\n",
      " 31  glyburide                 101766 non-null  object\n",
      " 32  tolbutamide               101766 non-null  object\n",
      " 33  pioglitazone              101766 non-null  object\n",
      " 34  rosiglitazone             101766 non-null  object\n",
      " 35  acarbose                  101766 non-null  object\n",
      " 36  miglitol                  101766 non-null  object\n",
      " 37  troglitazone              101766 non-null  object\n",
      " 38  tolazamide                101766 non-null  object\n",
      " 39  examide                   101766 non-null  object\n",
      " 40  citoglipton               101766 non-null  object\n",
      " 41  insulin                   101766 non-null  object\n",
      " 42  glyburide-metformin       101766 non-null  object\n",
      " 43  glipizide-metformin       101766 non-null  object\n",
      " 44  glimepiride-pioglitazone  101766 non-null  object\n",
      " 45  metformin-rosiglitazone   101766 non-null  object\n",
      " 46  metformin-pioglitazone    101766 non-null  object\n",
      " 47  change                    101766 non-null  object\n",
      " 48  diabetesMed               101766 non-null  object\n",
      " 49  readmitted                101766 non-null  object\n",
      "dtypes: int64(13), object(37)\n",
      "memory usage: 38.8+ MB\n"
     ]
    }
   ],
   "source": [
    "df.info()"
   ]
  },
  {
   "cell_type": "markdown",
   "metadata": {},
   "source": [
    "## Missing Values"
   ]
  },
  {
   "cell_type": "code",
   "execution_count": 5,
   "metadata": {},
   "outputs": [],
   "source": [
    "def get_missing_values(dataframe):\n",
    "  '''creates a table with the feature, the total of missing value for the feature, and the percentage'''\n",
    "  df = dataframe\n",
    "  missing_values = pd.DataFrame(index=None, columns= ['feature','quantity','percentage'])\n",
    "  for column in df.columns:\n",
    "    if df[column].dtype == object:\n",
    "      quantity = df[df[column]=='?'][column].count()\n",
    "      percentage = quantity/df[column].count()\n",
    "      missing_values = missing_values.append({\"feature\" : column,\n",
    "                                              \"quantity\" : quantity,\n",
    "                                              \"percentage\": percentage\n",
    "                                              },ignore_index=True)\n",
    "  return missing_values"
   ]
  },
  {
   "cell_type": "code",
   "execution_count": 6,
   "metadata": {},
   "outputs": [
    {
     "data": {
      "text/html": [
       "<div>\n",
       "<style scoped>\n",
       "    .dataframe tbody tr th:only-of-type {\n",
       "        vertical-align: middle;\n",
       "    }\n",
       "\n",
       "    .dataframe tbody tr th {\n",
       "        vertical-align: top;\n",
       "    }\n",
       "\n",
       "    .dataframe thead th {\n",
       "        text-align: right;\n",
       "    }\n",
       "</style>\n",
       "<table border=\"1\" class=\"dataframe\">\n",
       "  <thead>\n",
       "    <tr style=\"text-align: right;\">\n",
       "      <th></th>\n",
       "      <th>feature</th>\n",
       "      <th>quantity</th>\n",
       "      <th>percentage</th>\n",
       "    </tr>\n",
       "  </thead>\n",
       "  <tbody>\n",
       "    <tr>\n",
       "      <th>0</th>\n",
       "      <td>race</td>\n",
       "      <td>2273</td>\n",
       "      <td>0.022336</td>\n",
       "    </tr>\n",
       "    <tr>\n",
       "      <th>1</th>\n",
       "      <td>gender</td>\n",
       "      <td>0</td>\n",
       "      <td>0.000000</td>\n",
       "    </tr>\n",
       "    <tr>\n",
       "      <th>2</th>\n",
       "      <td>age</td>\n",
       "      <td>0</td>\n",
       "      <td>0.000000</td>\n",
       "    </tr>\n",
       "    <tr>\n",
       "      <th>3</th>\n",
       "      <td>weight</td>\n",
       "      <td>98569</td>\n",
       "      <td>0.968585</td>\n",
       "    </tr>\n",
       "    <tr>\n",
       "      <th>4</th>\n",
       "      <td>payer_code</td>\n",
       "      <td>40256</td>\n",
       "      <td>0.395574</td>\n",
       "    </tr>\n",
       "    <tr>\n",
       "      <th>5</th>\n",
       "      <td>medical_specialty</td>\n",
       "      <td>49949</td>\n",
       "      <td>0.490822</td>\n",
       "    </tr>\n",
       "    <tr>\n",
       "      <th>6</th>\n",
       "      <td>diag_1</td>\n",
       "      <td>21</td>\n",
       "      <td>0.000206</td>\n",
       "    </tr>\n",
       "    <tr>\n",
       "      <th>7</th>\n",
       "      <td>diag_2</td>\n",
       "      <td>358</td>\n",
       "      <td>0.003518</td>\n",
       "    </tr>\n",
       "    <tr>\n",
       "      <th>8</th>\n",
       "      <td>diag_3</td>\n",
       "      <td>1423</td>\n",
       "      <td>0.013983</td>\n",
       "    </tr>\n",
       "    <tr>\n",
       "      <th>9</th>\n",
       "      <td>max_glu_serum</td>\n",
       "      <td>0</td>\n",
       "      <td>0.000000</td>\n",
       "    </tr>\n",
       "    <tr>\n",
       "      <th>10</th>\n",
       "      <td>A1Cresult</td>\n",
       "      <td>0</td>\n",
       "      <td>0.000000</td>\n",
       "    </tr>\n",
       "    <tr>\n",
       "      <th>11</th>\n",
       "      <td>metformin</td>\n",
       "      <td>0</td>\n",
       "      <td>0.000000</td>\n",
       "    </tr>\n",
       "    <tr>\n",
       "      <th>12</th>\n",
       "      <td>repaglinide</td>\n",
       "      <td>0</td>\n",
       "      <td>0.000000</td>\n",
       "    </tr>\n",
       "    <tr>\n",
       "      <th>13</th>\n",
       "      <td>nateglinide</td>\n",
       "      <td>0</td>\n",
       "      <td>0.000000</td>\n",
       "    </tr>\n",
       "    <tr>\n",
       "      <th>14</th>\n",
       "      <td>chlorpropamide</td>\n",
       "      <td>0</td>\n",
       "      <td>0.000000</td>\n",
       "    </tr>\n",
       "    <tr>\n",
       "      <th>15</th>\n",
       "      <td>glimepiride</td>\n",
       "      <td>0</td>\n",
       "      <td>0.000000</td>\n",
       "    </tr>\n",
       "    <tr>\n",
       "      <th>16</th>\n",
       "      <td>acetohexamide</td>\n",
       "      <td>0</td>\n",
       "      <td>0.000000</td>\n",
       "    </tr>\n",
       "    <tr>\n",
       "      <th>17</th>\n",
       "      <td>glipizide</td>\n",
       "      <td>0</td>\n",
       "      <td>0.000000</td>\n",
       "    </tr>\n",
       "    <tr>\n",
       "      <th>18</th>\n",
       "      <td>glyburide</td>\n",
       "      <td>0</td>\n",
       "      <td>0.000000</td>\n",
       "    </tr>\n",
       "    <tr>\n",
       "      <th>19</th>\n",
       "      <td>tolbutamide</td>\n",
       "      <td>0</td>\n",
       "      <td>0.000000</td>\n",
       "    </tr>\n",
       "    <tr>\n",
       "      <th>20</th>\n",
       "      <td>pioglitazone</td>\n",
       "      <td>0</td>\n",
       "      <td>0.000000</td>\n",
       "    </tr>\n",
       "    <tr>\n",
       "      <th>21</th>\n",
       "      <td>rosiglitazone</td>\n",
       "      <td>0</td>\n",
       "      <td>0.000000</td>\n",
       "    </tr>\n",
       "    <tr>\n",
       "      <th>22</th>\n",
       "      <td>acarbose</td>\n",
       "      <td>0</td>\n",
       "      <td>0.000000</td>\n",
       "    </tr>\n",
       "    <tr>\n",
       "      <th>23</th>\n",
       "      <td>miglitol</td>\n",
       "      <td>0</td>\n",
       "      <td>0.000000</td>\n",
       "    </tr>\n",
       "    <tr>\n",
       "      <th>24</th>\n",
       "      <td>troglitazone</td>\n",
       "      <td>0</td>\n",
       "      <td>0.000000</td>\n",
       "    </tr>\n",
       "    <tr>\n",
       "      <th>25</th>\n",
       "      <td>tolazamide</td>\n",
       "      <td>0</td>\n",
       "      <td>0.000000</td>\n",
       "    </tr>\n",
       "    <tr>\n",
       "      <th>26</th>\n",
       "      <td>examide</td>\n",
       "      <td>0</td>\n",
       "      <td>0.000000</td>\n",
       "    </tr>\n",
       "    <tr>\n",
       "      <th>27</th>\n",
       "      <td>citoglipton</td>\n",
       "      <td>0</td>\n",
       "      <td>0.000000</td>\n",
       "    </tr>\n",
       "    <tr>\n",
       "      <th>28</th>\n",
       "      <td>insulin</td>\n",
       "      <td>0</td>\n",
       "      <td>0.000000</td>\n",
       "    </tr>\n",
       "    <tr>\n",
       "      <th>29</th>\n",
       "      <td>glyburide-metformin</td>\n",
       "      <td>0</td>\n",
       "      <td>0.000000</td>\n",
       "    </tr>\n",
       "    <tr>\n",
       "      <th>30</th>\n",
       "      <td>glipizide-metformin</td>\n",
       "      <td>0</td>\n",
       "      <td>0.000000</td>\n",
       "    </tr>\n",
       "    <tr>\n",
       "      <th>31</th>\n",
       "      <td>glimepiride-pioglitazone</td>\n",
       "      <td>0</td>\n",
       "      <td>0.000000</td>\n",
       "    </tr>\n",
       "    <tr>\n",
       "      <th>32</th>\n",
       "      <td>metformin-rosiglitazone</td>\n",
       "      <td>0</td>\n",
       "      <td>0.000000</td>\n",
       "    </tr>\n",
       "    <tr>\n",
       "      <th>33</th>\n",
       "      <td>metformin-pioglitazone</td>\n",
       "      <td>0</td>\n",
       "      <td>0.000000</td>\n",
       "    </tr>\n",
       "    <tr>\n",
       "      <th>34</th>\n",
       "      <td>change</td>\n",
       "      <td>0</td>\n",
       "      <td>0.000000</td>\n",
       "    </tr>\n",
       "    <tr>\n",
       "      <th>35</th>\n",
       "      <td>diabetesMed</td>\n",
       "      <td>0</td>\n",
       "      <td>0.000000</td>\n",
       "    </tr>\n",
       "    <tr>\n",
       "      <th>36</th>\n",
       "      <td>readmitted</td>\n",
       "      <td>0</td>\n",
       "      <td>0.000000</td>\n",
       "    </tr>\n",
       "  </tbody>\n",
       "</table>\n",
       "</div>"
      ],
      "text/plain": [
       "                     feature quantity  percentage\n",
       "0                       race     2273    0.022336\n",
       "1                     gender        0    0.000000\n",
       "2                        age        0    0.000000\n",
       "3                     weight    98569    0.968585\n",
       "4                 payer_code    40256    0.395574\n",
       "5          medical_specialty    49949    0.490822\n",
       "6                     diag_1       21    0.000206\n",
       "7                     diag_2      358    0.003518\n",
       "8                     diag_3     1423    0.013983\n",
       "9              max_glu_serum        0    0.000000\n",
       "10                 A1Cresult        0    0.000000\n",
       "11                 metformin        0    0.000000\n",
       "12               repaglinide        0    0.000000\n",
       "13               nateglinide        0    0.000000\n",
       "14            chlorpropamide        0    0.000000\n",
       "15               glimepiride        0    0.000000\n",
       "16             acetohexamide        0    0.000000\n",
       "17                 glipizide        0    0.000000\n",
       "18                 glyburide        0    0.000000\n",
       "19               tolbutamide        0    0.000000\n",
       "20              pioglitazone        0    0.000000\n",
       "21             rosiglitazone        0    0.000000\n",
       "22                  acarbose        0    0.000000\n",
       "23                  miglitol        0    0.000000\n",
       "24              troglitazone        0    0.000000\n",
       "25                tolazamide        0    0.000000\n",
       "26                   examide        0    0.000000\n",
       "27               citoglipton        0    0.000000\n",
       "28                   insulin        0    0.000000\n",
       "29       glyburide-metformin        0    0.000000\n",
       "30       glipizide-metformin        0    0.000000\n",
       "31  glimepiride-pioglitazone        0    0.000000\n",
       "32   metformin-rosiglitazone        0    0.000000\n",
       "33    metformin-pioglitazone        0    0.000000\n",
       "34                    change        0    0.000000\n",
       "35               diabetesMed        0    0.000000\n",
       "36                readmitted        0    0.000000"
      ]
     },
     "execution_count": 6,
     "metadata": {},
     "output_type": "execute_result"
    }
   ],
   "source": [
    "missing_values = get_missing_values(df)\n",
    "missing_values"
   ]
  },
  {
   "cell_type": "code",
   "execution_count": 7,
   "metadata": {},
   "outputs": [
    {
     "data": {
      "text/plain": [
       "array(['Female', 'Male', 'Unknown/Invalid'], dtype=object)"
      ]
     },
     "execution_count": 7,
     "metadata": {},
     "output_type": "execute_result"
    }
   ],
   "source": [
    "df.gender.unique()"
   ]
  },
  {
   "cell_type": "code",
   "execution_count": 8,
   "metadata": {},
   "outputs": [
    {
     "name": "stdout",
     "output_type": "stream",
     "text": [
      "gender 3\n"
     ]
    }
   ],
   "source": [
    "print('gender',df[df['gender']=='Unknown/Invalid']['gender'].count())"
   ]
  },
  {
   "cell_type": "markdown",
   "metadata": {},
   "source": [
    "Drop variables with more than 39% of missing values"
   ]
  },
  {
   "cell_type": "code",
   "execution_count": 9,
   "metadata": {},
   "outputs": [
    {
     "data": {
      "text/plain": [
       "3               weight\n",
       "4           payer_code\n",
       "5    medical_specialty\n",
       "Name: feature, dtype: object"
      ]
     },
     "execution_count": 9,
     "metadata": {},
     "output_type": "execute_result"
    }
   ],
   "source": [
    "null_features = missing_values[missing_values['percentage']>= 0.39]['feature']\n",
    "null_features"
   ]
  },
  {
   "cell_type": "code",
   "execution_count": 10,
   "metadata": {},
   "outputs": [],
   "source": [
    "for feature in null_features:\n",
    "  df = df.drop(feature,axis=1)"
   ]
  },
  {
   "cell_type": "markdown",
   "metadata": {},
   "source": [
    "Now we are going to drop rows with \"?\" in any column"
   ]
  },
  {
   "cell_type": "code",
   "execution_count": 11,
   "metadata": {},
   "outputs": [],
   "source": [
    "index_to_drop = set(df[(df['diag_1'] == '?') & (df['diag_2'] == '?') & (df['diag_3'] == '?')].index)\n",
    "index_to_drop = index_to_drop.union(set(df['diag_1'][df['diag_1'] == '?'].index))\n",
    "index_to_drop = index_to_drop.union(set(df['diag_2'][df['diag_2'] == '?'].index))\n",
    "index_to_drop = index_to_drop.union(set(df['diag_3'][df['diag_3'] == '?'].index))\n",
    "index_to_drop = index_to_drop.union(set(df['race'][df['race'] == '?'].index))\n",
    "index_to_drop = index_to_drop.union(set(df[df['discharge_disposition_id'] == 11].index))#this corresponds to\n",
    "index_to_drop = index_to_drop.union(set(df['gender'][df['gender'] == 'Unknown/Invalid'].index))\n",
    "new_index = list(set(df.index) - set(index_to_drop))\n",
    "df = df.iloc[new_index]"
   ]
  },
  {
   "cell_type": "code",
   "execution_count": 12,
   "metadata": {},
   "outputs": [
    {
     "data": {
      "text/plain": [
       "(96446, 47)"
      ]
     },
     "execution_count": 12,
     "metadata": {},
     "output_type": "execute_result"
    }
   ],
   "source": [
    "df.shape"
   ]
  },
  {
   "cell_type": "markdown",
   "metadata": {},
   "source": [
    "we are also going to delete this 2 features that has the same value in all rows"
   ]
  },
  {
   "cell_type": "code",
   "execution_count": 13,
   "metadata": {},
   "outputs": [
    {
     "data": {
      "text/plain": [
       "array(['No'], dtype=object)"
      ]
     },
     "execution_count": 13,
     "metadata": {},
     "output_type": "execute_result"
    }
   ],
   "source": [
    "df['citoglipton'].append(df['examide']).unique()"
   ]
  },
  {
   "cell_type": "code",
   "execution_count": 14,
   "metadata": {},
   "outputs": [],
   "source": [
    "df = df.drop(['citoglipton','examide'], axis = 1)"
   ]
  },
  {
   "cell_type": "code",
   "execution_count": 15,
   "metadata": {},
   "outputs": [
    {
     "data": {
      "text/plain": [
       "(96446, 45)"
      ]
     },
     "execution_count": 15,
     "metadata": {},
     "output_type": "execute_result"
    }
   ],
   "source": [
    "df.shape"
   ]
  },
  {
   "cell_type": "markdown",
   "metadata": {},
   "source": [
    "## Exploratory Data Analysis"
   ]
  },
  {
   "cell_type": "markdown",
   "metadata": {},
   "source": [
    "#### Readmitted"
   ]
  },
  {
   "cell_type": "code",
   "execution_count": 16,
   "metadata": {},
   "outputs": [
    {
     "data": {
      "text/plain": [
       "NO     50731\n",
       ">30    34649\n",
       "<30    11066\n",
       "Name: readmitted, dtype: int64"
      ]
     },
     "execution_count": 16,
     "metadata": {},
     "output_type": "execute_result"
    }
   ],
   "source": [
    "df['readmitted'].value_counts()"
   ]
  },
  {
   "cell_type": "code",
   "execution_count": 17,
   "metadata": {},
   "outputs": [],
   "source": [
    "import matplotlib.pyplot as plt\n",
    "import seaborn as sns"
   ]
  },
  {
   "cell_type": "code",
   "execution_count": 18,
   "metadata": {},
   "outputs": [
    {
     "data": {
      "image/png": "[encoded data removed]",
      "text/plain": [
       "<Figure size 432x288 with 1 Axes>"
      ]
     },
     "metadata": {},
     "output_type": "display_data"
    }
   ],
   "source": [
    "df.readmitted.value_counts().plot.pie(autopct = \"%.1f%%\")\n",
    "plt.title(\"Proportion of Target Value\")\n",
    "plt.show()"
   ]
  },
  {
   "cell_type": "markdown",
   "metadata": {},
   "source": [
    "#### Race"
   ]
  },
  {
   "cell_type": "code",
   "execution_count": 19,
   "metadata": {},
   "outputs": [
    {
     "data": {
      "text/plain": [
       "Caucasian          73835\n",
       "AfricanAmerican    18560\n",
       "Hispanic            1971\n",
       "Other               1463\n",
       "Asian                617\n",
       "Name: race, dtype: int64"
      ]
     },
     "execution_count": 19,
     "metadata": {},
     "output_type": "execute_result"
    }
   ],
   "source": [
    "df.race.value_counts()"
   ]
  },
  {
   "cell_type": "code",
   "execution_count": 20,
   "metadata": {},
   "outputs": [
    {
     "data": {
      "image/png": "[encoded data removed]",
      "text/plain": [
       "<Figure size 432x288 with 1 Axes>"
      ]
     },
     "metadata": {
      "needs_background": "light"
     },
     "output_type": "display_data"
    },
    {
     "name": "stdout",
     "output_type": "stream",
     "text": [
      "Proportion of Race\n",
      "Caucasian          76.555793\n",
      "AfricanAmerican    19.243929\n",
      "Hispanic            2.043631\n",
      "Other               1.516911\n",
      "Asian               0.639736\n",
      "Name: race, dtype: float64\n"
     ]
    }
   ],
   "source": [
    "sns.countplot(x=df.race, data = df)\n",
    "plt.xticks(rotation=90)\n",
    "plt.title(\"Number of Race values\")\n",
    "plt.show()\n",
    "\n",
    "print(\"Proportion of Race\")\n",
    "print(df.race.value_counts(normalize = True)*100)"
   ]
  },
  {
   "cell_type": "code",
   "execution_count": 21,
   "metadata": {},
   "outputs": [
    {
     "data": {
      "image/png": "[encoded data removed]",
      "text/plain": [
       "<Figure size 432x288 with 1 Axes>"
      ]
     },
     "metadata": {
      "needs_background": "light"
     },
     "output_type": "display_data"
    },
    {
     "name": "stdout",
     "output_type": "stream",
     "text": [
      "Proportion of Race After the Mapping\n",
      "Caucasian          76.555793\n",
      "AfricanAmerican    19.243929\n",
      "Other               4.200278\n",
      "Name: race, dtype: float64\n"
     ]
    }
   ],
   "source": [
    "mapped_race = {\"Asian\":\"Other\",\"Hispanic\":\"Other\"}\n",
    "#df.race = df.race.replace(mapped_race)\n",
    "\n",
    "sns.countplot(x=df.race.replace(mapped_race), data = df)\n",
    "plt.title(\"Number of Race values\")\n",
    "plt.show()\n",
    "\n",
    "print(\"Proportion of Race After the Mapping\")\n",
    "print(df.race.replace(mapped_race).value_counts(normalize= True)*100)"
   ]
  },
  {
   "cell_type": "code",
   "execution_count": 22,
   "metadata": {},
   "outputs": [
    {
     "data": {
      "image/png": "[encoded data removed]",
      "text/plain": [
       "<Figure size 432x288 with 1 Axes>"
      ]
     },
     "metadata": {
      "needs_background": "light"
     },
     "output_type": "display_data"
    }
   ],
   "source": [
    "sns.countplot(x=\"race\", hue= \"readmitted\", data = df)\n",
    "plt.title(\"Readmitted by Race\")\n",
    "plt.show()"
   ]
  },
  {
   "cell_type": "code",
   "execution_count": 23,
   "metadata": {},
   "outputs": [
    {
     "data": {
      "text/plain": [
       "<AxesSubplot:xlabel='count', ylabel='race'>"
      ]
     },
     "execution_count": 23,
     "metadata": {},
     "output_type": "execute_result"
    },
    {
     "data": {
      "image/png": "[encoded data removed]",
      "text/plain": [
       "<Figure size 576x576 with 1 Axes>"
      ]
     },
     "metadata": {
      "needs_background": "light"
     },
     "output_type": "display_data"
    }
   ],
   "source": [
    "fig = plt.figure(figsize=(8,8))\n",
    "sns.countplot(y = df['race'], hue = df['readmitted'])"
   ]
  },
  {
   "cell_type": "markdown",
   "metadata": {},
   "source": [
    "#### Gender"
   ]
  },
  {
   "cell_type": "code",
   "execution_count": 24,
   "metadata": {},
   "outputs": [
    {
     "data": {
      "image/png": "[encoded data removed]",
      "text/plain": [
       "<Figure size 432x288 with 1 Axes>"
      ]
     },
     "metadata": {
      "needs_background": "light"
     },
     "output_type": "display_data"
    },
    {
     "name": "stdout",
     "output_type": "stream",
     "text": [
      "Proportions of gender\n",
      "Female    0.539224\n",
      "Male      0.460776\n",
      "Name: gender, dtype: float64\n"
     ]
    }
   ],
   "source": [
    "sns.countplot(x = \"gender\", data = df)\n",
    "plt.title(\"Distribution of Number of Gender\")\n",
    "plt.show()\n",
    "\n",
    "print(\"Proportions of gender\")\n",
    "print(df.gender.value_counts(normalize = True))"
   ]
  },
  {
   "cell_type": "code",
   "execution_count": 25,
   "metadata": {},
   "outputs": [
    {
     "data": {
      "image/png": "[encoded data removed]",
      "text/plain": [
       "<Figure size 432x288 with 1 Axes>"
      ]
     },
     "metadata": {
      "needs_background": "light"
     },
     "output_type": "display_data"
    }
   ],
   "source": [
    "sns.countplot(x = \"gender\", hue = \"readmitted\", data = df)\n",
    "plt.title(\"Gender - Readmitted\")\n",
    "plt.show()"
   ]
  },
  {
   "cell_type": "markdown",
   "metadata": {},
   "source": [
    "#### Age"
   ]
  },
  {
   "cell_type": "code",
   "execution_count": 26,
   "metadata": {},
   "outputs": [
    {
     "data": {
      "image/png": "[encoded data removed]",
      "text/plain": [
       "<Figure size 432x288 with 1 Axes>"
      ]
     },
     "metadata": {
      "needs_background": "light"
     },
     "output_type": "display_data"
    }
   ],
   "source": [
    "sns.countplot(x=\"age\", data = df)\n",
    "plt.xticks(rotation = 90)\n",
    "plt.show()"
   ]
  },
  {
   "cell_type": "code",
   "execution_count": 27,
   "metadata": {},
   "outputs": [
    {
     "data": {
      "image/png": "[encoded data removed]",
      "text/plain": [
       "<Figure size 432x288 with 1 Axes>"
      ]
     },
     "metadata": {
      "needs_background": "light"
     },
     "output_type": "display_data"
    }
   ],
   "source": [
    "df.age = df.age.replace({\"[70-80)\":75,\n",
    "                         \"[60-70)\":65,\n",
    "                         \"[50-60)\":55,\n",
    "                         \"[80-90)\":85,\n",
    "                         \"[40-50)\":45,\n",
    "                         \"[30-40)\":35,\n",
    "                         \"[90-100)\":95,\n",
    "                         \"[20-30)\":25,\n",
    "                         \"[10-20)\":15,\n",
    "                         \"[0-10)\":5})\n",
    "\n",
    "sns.countplot(x=\"age\", data = df)\n",
    "#plt.xticks(rotation = 90)\n",
    "plt.show()"
   ]
  },
  {
   "cell_type": "code",
   "execution_count": 28,
   "metadata": {},
   "outputs": [
    {
     "data": {
      "text/plain": [
       "Text(0.5, 1.0, 'Age of Patient VS. Readmission')"
      ]
     },
     "execution_count": 28,
     "metadata": {},
     "output_type": "execute_result"
    },
    {
     "data": {
      "image/png": "[encoded data removed]",
      "text/plain": [
       "<Figure size 1080x720 with 1 Axes>"
      ]
     },
     "metadata": {
      "needs_background": "light"
     },
     "output_type": "display_data"
    }
   ],
   "source": [
    "fig = plt.figure(figsize=(15,10))\n",
    "sns.countplot(y= df['age'], hue = df['readmitted']).set_title('Age of Patient VS. Readmission')"
   ]
  },
  {
   "cell_type": "markdown",
   "metadata": {},
   "source": [
    "#### Admission Type ID"
   ]
  },
  {
   "cell_type": "markdown",
   "metadata": {},
   "source": [
    "\n",
    "* Emergency : 1\n",
    "* Urgent : 2\n",
    "* Elective : 3\n",
    "* Newborn : 4\n",
    "* Not Available : 5\n",
    "* NULL : 6\n",
    "* Trauma Center : 7\n",
    "* Not Mapped : 8"
   ]
  },
  {
   "cell_type": "code",
   "execution_count": 29,
   "metadata": {},
   "outputs": [
    {
     "data": {
      "image/png": "[encoded data removed]",
      "text/plain": [
       "<Figure size 432x288 with 1 Axes>"
      ]
     },
     "metadata": {
      "needs_background": "light"
     },
     "output_type": "display_data"
    },
    {
     "name": "stdout",
     "output_type": "stream",
     "text": [
      "Distribution of Admission IDs\n",
      "1    51097\n",
      "3    18070\n",
      "2    17300\n",
      "6     5072\n",
      "5     4568\n",
      "8      312\n",
      "7       17\n",
      "4       10\n",
      "Name: admission_type_id, dtype: int64\n"
     ]
    }
   ],
   "source": [
    "sns.countplot(x = \"admission_type_id\", data = df)\n",
    "plt.title(\"Distribution of Admission IDs\")\n",
    "plt.show()\n",
    "\n",
    "print(\"Distribution of Admission IDs\")\n",
    "print(df.admission_type_id.value_counts())"
   ]
  },
  {
   "cell_type": "code",
   "execution_count": 30,
   "metadata": {},
   "outputs": [
    {
     "data": {
      "image/png": "[encoded data removed]",
      "text/plain": [
       "<Figure size 432x288 with 1 Axes>"
      ]
     },
     "metadata": {
      "needs_background": "light"
     },
     "output_type": "display_data"
    },
    {
     "name": "stdout",
     "output_type": "stream",
     "text": [
      "-Distribution of ID's-\n",
      "Emergency        68397\n",
      "Elective         18070\n",
      "Trauma Center       17\n",
      "New Born            10\n",
      "Name: admission_type_id, dtype: int64\n"
     ]
    }
   ],
   "source": [
    "mapped = {1.0:\"Emergency\",\n",
    "          2.0:\"Emergency\",\n",
    "          3.0:\"Elective\",\n",
    "          4.0:\"New Born\",\n",
    "          5.0:np.nan,\n",
    "          6.0:np.nan,\n",
    "          7.0:\"Trauma Center\",\n",
    "          8.0:np.nan}\n",
    "\n",
    "sns.countplot(x = df.admission_type_id.replace(mapped), data = df)\n",
    "plt.title(\"-Distribution of Admission IDs-\")\n",
    "plt.show()\n",
    "\n",
    "print(\"-Distribution of ID's-\")\n",
    "print(df.admission_type_id.replace(mapped).value_counts())"
   ]
  },
  {
   "cell_type": "code",
   "execution_count": 31,
   "metadata": {},
   "outputs": [
    {
     "data": {
      "image/png": "[encoded data removed]",
      "text/plain": [
       "<Figure size 432x432 with 1 Axes>"
      ]
     },
     "metadata": {
      "needs_background": "light"
     },
     "output_type": "display_data"
    }
   ],
   "source": [
    "g = sns.catplot(x = \"admission_type_id\", y =\"readmitted\", \n",
    "                    data = df, height = 6, kind = \"bar\")\n",
    "g.set_ylabels(\"Readmitted Probability\")\n",
    "plt.show()"
   ]
  },
  {
   "cell_type": "markdown",
   "metadata": {},
   "source": [
    "#### Discharge Disposition ID\n",
    "\n",
    "-Integer identifier corresponding to 29 distinct values. For example, discharged to home, expired, and not available"
   ]
  },
  {
   "cell_type": "code",
   "execution_count": 32,
   "metadata": {},
   "outputs": [
    {
     "data": {
      "image/png": "[encoded data removed]",
      "text/plain": [
       "<Figure size 432x288 with 1 Axes>"
      ]
     },
     "metadata": {
      "needs_background": "light"
     },
     "output_type": "display_data"
    }
   ],
   "source": [
    "sns.countplot(x =\"discharge_disposition_id\", data = df)\n",
    "plt.show()"
   ]
  },
  {
   "cell_type": "markdown",
   "metadata": {},
   "source": [
    "#### Admission Source ID\n",
    "\n",
    "Integer identifier corresponding to 21 distinct values.For example, physician referral, emergency room, and transfer from a hospital"
   ]
  },
  {
   "cell_type": "code",
   "execution_count": 33,
   "metadata": {},
   "outputs": [
    {
     "data": {
      "image/png": "[encoded data removed]",
      "text/plain": [
       "<Figure size 432x288 with 1 Axes>"
      ]
     },
     "metadata": {
      "needs_background": "light"
     },
     "output_type": "display_data"
    }
   ],
   "source": [
    "sns.countplot(df[\"admission_source_id\"])\n",
    "plt.show()"
   ]
  },
  {
   "cell_type": "markdown",
   "metadata": {},
   "source": [
    "* we'll put the similar ones together like Referral or Transfer\n",
    "* we will replace Null, Not Mapped, Unknown values as NAN"
   ]
  },
  {
   "cell_type": "markdown",
   "metadata": {},
   "source": [
    "Readmitted Probability of Referral is very close to Emergency, although Emergency is have more samples than other"
   ]
  },
  {
   "cell_type": "markdown",
   "metadata": {},
   "source": [
    "#### Number of Lab Procedures\n",
    "\n",
    "Number of lab tests performed during the encounter"
   ]
  },
  {
   "cell_type": "code",
   "execution_count": 34,
   "metadata": {},
   "outputs": [
    {
     "data": {
      "image/png": "[encoded data removed]",
      "text/plain": [
       "<Figure size 432x288 with 1 Axes>"
      ]
     },
     "metadata": {
      "needs_background": "light"
     },
     "output_type": "display_data"
    },
    {
     "name": "stdout",
     "output_type": "stream",
     "text": [
      "Proportions of Column\n",
      "1     3069\n",
      "43    2686\n",
      "44    2385\n",
      "45    2277\n",
      "38    2109\n",
      "40    2095\n",
      "46    2089\n",
      "41    2021\n",
      "42    2005\n",
      "47    1999\n",
      "Name: num_lab_procedures, dtype: int64\n"
     ]
    }
   ],
   "source": [
    "sns.countplot(x = \"num_lab_procedures\", data = df)\n",
    "plt.show()\n",
    "\n",
    "print(\"Proportions of Column\")\n",
    "print(df.num_lab_procedures.value_counts().head(10))"
   ]
  },
  {
   "cell_type": "markdown",
   "metadata": {},
   "source": [
    "#### Time in Hospital VS. Readmission"
   ]
  },
  {
   "cell_type": "code",
   "execution_count": 35,
   "metadata": {},
   "outputs": [
    {
     "data": {
      "text/plain": [
       "Text(0.5, 1.0, 'Time in Hospital VS. Readmission')"
      ]
     },
     "execution_count": 35,
     "metadata": {},
     "output_type": "execute_result"
    },
    {
     "data": {
      "image/png": "[encoded data removed]",
      "text/plain": [
       "<Figure size 720x576 with 1 Axes>"
      ]
     },
     "metadata": {
      "needs_background": "light"
     },
     "output_type": "display_data"
    }
   ],
   "source": [
    "fig = plt.figure(figsize=(10,8),)\n",
    "ax=sns.kdeplot(df.loc[(df['readmitted'] != '<30'),'time_in_hospital'] , color='g',shade=True,label='Not Readmitted')\n",
    "ax=sns.kdeplot(df.loc[(df['readmitted'] == '<30'),'time_in_hospital'] , color='r',shade=True, label='Readmitted')\n",
    "ax.set(xlabel='Time in Hospital', ylabel='Frequency')\n",
    "plt.title('Time in Hospital VS. Readmission')"
   ]
  },
  {
   "cell_type": "markdown",
   "metadata": {},
   "source": [
    "Most of patients stayed 2 - 3 days in hospital"
   ]
  },
  {
   "cell_type": "code",
   "execution_count": 36,
   "metadata": {},
   "outputs": [
    {
     "data": {
      "image/png": "[encoded data removed]",
      "text/plain": [
       "<Figure size 720x360 with 1 Axes>"
      ]
     },
     "metadata": {
      "needs_background": "light"
     },
     "output_type": "display_data"
    }
   ],
   "source": [
    "fig = plt.figure(figsize=(10,5))\n",
    "\n",
    "ax = sns.kdeplot(df.loc[(df.readmitted == 'NO'), \"num_lab_procedures\"],\n",
    "                 color = \"g\", shade = True,label = \"Not Readmitted\")\n",
    "\n",
    "ax = sns.kdeplot(df.loc[(df.readmitted != 'NO'), \"num_lab_procedures\"],\n",
    "                 color = \"r\", shade = True, label = \"Readmitted\")\n",
    "\n",
    "ax.legend(loc=\"upper right\")\n",
    "ax.set_xlabel(\"Number of Lab Procedures\")\n",
    "ax.set_ylabel(\"Frequency\")\n",
    "ax.set_title(\"Number of Lab Procedures - Readmission\")\n",
    "\n",
    "plt.show()"
   ]
  },
  {
   "cell_type": "markdown",
   "metadata": {},
   "source": [
    "## Feature Engineering\n",
    "\n",
    "Number of outpatient visits, number of inpatient visits and  emergency room visits (in the year before the hospitalization) measures how much hospital services a person has used."
   ]
  },
  {
   "cell_type": "code",
   "execution_count": 37,
   "metadata": {},
   "outputs": [],
   "source": [
    "df['hospital_service_usage'] = df['number_inpatient'] + df['number_outpatient'] + df['number_emergency']"
   ]
  },
  {
   "cell_type": "markdown",
   "metadata": {},
   "source": [
    "#### Number of medication changes\n",
    "\n",
    "we are going to create a new feature in order to measure the change in the medication"
   ]
  },
  {
   "cell_type": "code",
   "execution_count": 38,
   "metadata": {},
   "outputs": [
    {
     "data": {
      "text/plain": [
       "0    70142\n",
       "1    24922\n",
       "2     1271\n",
       "3      106\n",
       "4        5\n",
       "Name: numchange, dtype: int64"
      ]
     },
     "execution_count": 38,
     "metadata": {},
     "output_type": "execute_result"
    }
   ],
   "source": [
    "drugs = ['metformin', 'repaglinide', 'nateglinide', 'chlorpropamide', 'glimepiride', 'glipizide', 'glyburide', 'pioglitazone', 'rosiglitazone', 'acarbose', 'miglitol', 'insulin', 'glyburide-metformin', 'tolazamide', 'metformin-pioglitazone','metformin-rosiglitazone', 'glimepiride-pioglitazone', 'glipizide-metformin', 'troglitazone', 'tolbutamide', 'acetohexamide']\n",
    "for col in drugs:\n",
    "    colname = str(col) + 'temp'\n",
    "    df[colname] = df[col].apply(lambda x: 0 if (x == 'No' or x == 'Steady') else 1) # here we care about changes in the drug so put 1 if 'Up' or 'Down'\n",
    "df['numchange'] = 0\n",
    "for col in drugs:\n",
    "    colname = str(col) + 'temp'\n",
    "    df['numchange'] = df['numchange'] + df[colname]\n",
    "    del df[colname]\n",
    "    \n",
    "df['numchange'].value_counts() "
   ]
  },
  {
   "cell_type": "markdown",
   "metadata": {},
   "source": [
    "Now we can check for the patients with more changes in their drugs"
   ]
  },
  {
   "cell_type": "code",
   "execution_count": 39,
   "metadata": {},
   "outputs": [
    {
     "data": {
      "text/html": [
       "<div>\n",
       "<style scoped>\n",
       "    .dataframe tbody tr th:only-of-type {\n",
       "        vertical-align: middle;\n",
       "    }\n",
       "\n",
       "    .dataframe tbody tr th {\n",
       "        vertical-align: top;\n",
       "    }\n",
       "\n",
       "    .dataframe thead th {\n",
       "        text-align: right;\n",
       "    }\n",
       "</style>\n",
       "<table border=\"1\" class=\"dataframe\">\n",
       "  <thead>\n",
       "    <tr style=\"text-align: right;\">\n",
       "      <th></th>\n",
       "      <th>encounter_id</th>\n",
       "      <th>patient_nbr</th>\n",
       "      <th>race</th>\n",
       "      <th>gender</th>\n",
       "      <th>age</th>\n",
       "      <th>admission_type_id</th>\n",
       "      <th>discharge_disposition_id</th>\n",
       "      <th>admission_source_id</th>\n",
       "      <th>time_in_hospital</th>\n",
       "      <th>num_lab_procedures</th>\n",
       "      <th>...</th>\n",
       "      <th>glyburide-metformin</th>\n",
       "      <th>glipizide-metformin</th>\n",
       "      <th>glimepiride-pioglitazone</th>\n",
       "      <th>metformin-rosiglitazone</th>\n",
       "      <th>metformin-pioglitazone</th>\n",
       "      <th>change</th>\n",
       "      <th>diabetesMed</th>\n",
       "      <th>readmitted</th>\n",
       "      <th>hospital_service_usage</th>\n",
       "      <th>numchange</th>\n",
       "    </tr>\n",
       "  </thead>\n",
       "  <tbody>\n",
       "    <tr>\n",
       "      <th>70821</th>\n",
       "      <td>203948982</td>\n",
       "      <td>42138342</td>\n",
       "      <td>Other</td>\n",
       "      <td>Male</td>\n",
       "      <td>75</td>\n",
       "      <td>1</td>\n",
       "      <td>5</td>\n",
       "      <td>7</td>\n",
       "      <td>5</td>\n",
       "      <td>70</td>\n",
       "      <td>...</td>\n",
       "      <td>No</td>\n",
       "      <td>No</td>\n",
       "      <td>No</td>\n",
       "      <td>No</td>\n",
       "      <td>No</td>\n",
       "      <td>Ch</td>\n",
       "      <td>Yes</td>\n",
       "      <td>NO</td>\n",
       "      <td>0</td>\n",
       "      <td>4</td>\n",
       "    </tr>\n",
       "    <tr>\n",
       "      <th>73369</th>\n",
       "      <td>216705336</td>\n",
       "      <td>84476547</td>\n",
       "      <td>Caucasian</td>\n",
       "      <td>Male</td>\n",
       "      <td>55</td>\n",
       "      <td>1</td>\n",
       "      <td>1</td>\n",
       "      <td>7</td>\n",
       "      <td>4</td>\n",
       "      <td>37</td>\n",
       "      <td>...</td>\n",
       "      <td>No</td>\n",
       "      <td>No</td>\n",
       "      <td>No</td>\n",
       "      <td>No</td>\n",
       "      <td>No</td>\n",
       "      <td>Ch</td>\n",
       "      <td>Yes</td>\n",
       "      <td>NO</td>\n",
       "      <td>0</td>\n",
       "      <td>4</td>\n",
       "    </tr>\n",
       "    <tr>\n",
       "      <th>76627</th>\n",
       "      <td>231426660</td>\n",
       "      <td>92919915</td>\n",
       "      <td>AfricanAmerican</td>\n",
       "      <td>Female</td>\n",
       "      <td>55</td>\n",
       "      <td>3</td>\n",
       "      <td>5</td>\n",
       "      <td>7</td>\n",
       "      <td>8</td>\n",
       "      <td>73</td>\n",
       "      <td>...</td>\n",
       "      <td>No</td>\n",
       "      <td>No</td>\n",
       "      <td>No</td>\n",
       "      <td>No</td>\n",
       "      <td>No</td>\n",
       "      <td>Ch</td>\n",
       "      <td>Yes</td>\n",
       "      <td>&gt;30</td>\n",
       "      <td>1</td>\n",
       "      <td>4</td>\n",
       "    </tr>\n",
       "    <tr>\n",
       "      <th>76760</th>\n",
       "      <td>232085070</td>\n",
       "      <td>91760571</td>\n",
       "      <td>Caucasian</td>\n",
       "      <td>Female</td>\n",
       "      <td>85</td>\n",
       "      <td>2</td>\n",
       "      <td>6</td>\n",
       "      <td>7</td>\n",
       "      <td>6</td>\n",
       "      <td>58</td>\n",
       "      <td>...</td>\n",
       "      <td>No</td>\n",
       "      <td>No</td>\n",
       "      <td>No</td>\n",
       "      <td>No</td>\n",
       "      <td>No</td>\n",
       "      <td>Ch</td>\n",
       "      <td>Yes</td>\n",
       "      <td>&gt;30</td>\n",
       "      <td>0</td>\n",
       "      <td>4</td>\n",
       "    </tr>\n",
       "    <tr>\n",
       "      <th>96599</th>\n",
       "      <td>377841854</td>\n",
       "      <td>146114393</td>\n",
       "      <td>Hispanic</td>\n",
       "      <td>Female</td>\n",
       "      <td>65</td>\n",
       "      <td>1</td>\n",
       "      <td>1</td>\n",
       "      <td>7</td>\n",
       "      <td>6</td>\n",
       "      <td>61</td>\n",
       "      <td>...</td>\n",
       "      <td>No</td>\n",
       "      <td>No</td>\n",
       "      <td>No</td>\n",
       "      <td>No</td>\n",
       "      <td>No</td>\n",
       "      <td>Ch</td>\n",
       "      <td>Yes</td>\n",
       "      <td>NO</td>\n",
       "      <td>0</td>\n",
       "      <td>4</td>\n",
       "    </tr>\n",
       "  </tbody>\n",
       "</table>\n",
       "<p>5 rows × 47 columns</p>\n",
       "</div>"
      ],
      "text/plain": [
       "       encounter_id  patient_nbr             race  gender  age  \\\n",
       "70821     203948982     42138342            Other    Male   75   \n",
       "73369     216705336     84476547        Caucasian    Male   55   \n",
       "76627     231426660     92919915  AfricanAmerican  Female   55   \n",
       "76760     232085070     91760571        Caucasian  Female   85   \n",
       "96599     377841854    146114393         Hispanic  Female   65   \n",
       "\n",
       "       admission_type_id  discharge_disposition_id  admission_source_id  \\\n",
       "70821                  1                         5                    7   \n",
       "73369                  1                         1                    7   \n",
       "76627                  3                         5                    7   \n",
       "76760                  2                         6                    7   \n",
       "96599                  1                         1                    7   \n",
       "\n",
       "       time_in_hospital  num_lab_procedures  ...  glyburide-metformin  \\\n",
       "70821                 5                  70  ...                   No   \n",
       "73369                 4                  37  ...                   No   \n",
       "76627                 8                  73  ...                   No   \n",
       "76760                 6                  58  ...                   No   \n",
       "96599                 6                  61  ...                   No   \n",
       "\n",
       "       glipizide-metformin  glimepiride-pioglitazone  metformin-rosiglitazone  \\\n",
       "70821                   No                        No                       No   \n",
       "73369                   No                        No                       No   \n",
       "76627                   No                        No                       No   \n",
       "76760                   No                        No                       No   \n",
       "96599                   No                        No                       No   \n",
       "\n",
       "       metformin-pioglitazone change diabetesMed readmitted  \\\n",
       "70821                      No     Ch         Yes         NO   \n",
       "73369                      No     Ch         Yes         NO   \n",
       "76627                      No     Ch         Yes        >30   \n",
       "76760                      No     Ch         Yes        >30   \n",
       "96599                      No     Ch         Yes         NO   \n",
       "\n",
       "       hospital_service_usage numchange  \n",
       "70821                       0         4  \n",
       "73369                       0         4  \n",
       "76627                       1         4  \n",
       "76760                       0         4  \n",
       "96599                       0         4  \n",
       "\n",
       "[5 rows x 47 columns]"
      ]
     },
     "execution_count": 39,
     "metadata": {},
     "output_type": "execute_result"
    }
   ],
   "source": [
    "df[df.numchange == 4]"
   ]
  },
  {
   "cell_type": "markdown",
   "metadata": {},
   "source": [
    "## Enconding variables"
   ]
  },
  {
   "cell_type": "code",
   "execution_count": 40,
   "metadata": {},
   "outputs": [
    {
     "data": {
      "text/plain": [
       "(array(['Ch', 'No'], dtype=object),\n",
       " array(['Female', 'Male'], dtype=object),\n",
       " array(['Yes', 'No'], dtype=object))"
      ]
     },
     "execution_count": 40,
     "metadata": {},
     "output_type": "execute_result"
    }
   ],
   "source": [
    "df.change.unique(), df.gender.unique() ,df.diabetesMed.unique()"
   ]
  },
  {
   "cell_type": "code",
   "execution_count": 41,
   "metadata": {},
   "outputs": [],
   "source": [
    "df['change'] = df['change'].replace('Ch', 1)\n",
    "df['change'] = df['change'].replace('No', 0)\n",
    "df['gender'] = df['gender'].replace('Male', 1)\n",
    "df['gender'] = df['gender'].replace('Female', 0)\n",
    "df['diabetesMed'] = df['diabetesMed'].replace('Yes', 1)\n",
    "df['diabetesMed'] = df['diabetesMed'].replace('No', 0)\n",
    "# drugs is the same as before\n",
    "for col in drugs: #here we care about having or not the drug\n",
    "    df[col] = df[col].replace('No', 0)\n",
    "    df[col] = df[col].replace('Steady', 1)\n",
    "    df[col] = df[col].replace('Up', 1)\n",
    "    df[col] = df[col].replace('Down', 1)"
   ]
  },
  {
   "cell_type": "markdown",
   "metadata": {},
   "source": [
    "We also reduced both A1C test result and Glucose serum test result into categories of Normal, Abnormal and Not tested."
   ]
  },
  {
   "cell_type": "code",
   "execution_count": 42,
   "metadata": {},
   "outputs": [
    {
     "data": {
      "text/plain": [
       "(array(['None', '>7', '>8', 'Norm'], dtype=object),\n",
       " array(['None', '>300', 'Norm', '>200'], dtype=object))"
      ]
     },
     "execution_count": 42,
     "metadata": {},
     "output_type": "execute_result"
    }
   ],
   "source": [
    "df.A1Cresult.unique(), df.max_glu_serum.unique()"
   ]
  },
  {
   "cell_type": "code",
   "execution_count": 43,
   "metadata": {},
   "outputs": [],
   "source": [
    "df['A1Cresult'] = df['A1Cresult'].replace('>7', 1)\n",
    "df['A1Cresult'] = df['A1Cresult'].replace('>8', 1)\n",
    "df['A1Cresult'] = df['A1Cresult'].replace('Norm', 0)\n",
    "df['A1Cresult'] = df['A1Cresult'].replace('None', -99)\n",
    "df['max_glu_serum'] = df['max_glu_serum'].replace('>200', 1)\n",
    "df['max_glu_serum'] = df['max_glu_serum'].replace('>300', 1)\n",
    "df['max_glu_serum'] = df['max_glu_serum'].replace('Norm', 0)\n",
    "df['max_glu_serum'] = df['max_glu_serum'].replace('None', -99)"
   ]
  },
  {
   "cell_type": "code",
   "execution_count": 44,
   "metadata": {},
   "outputs": [
    {
     "data": {
      "text/plain": [
       "(96446, 47)"
      ]
     },
     "execution_count": 44,
     "metadata": {},
     "output_type": "execute_result"
    }
   ],
   "source": [
    "df.shape"
   ]
  },
  {
   "cell_type": "markdown",
   "metadata": {},
   "source": [
    "Some patients in the dataset had more than one encounter, we can't count them as independent encounters cause that is going to bias the result towards those who had several encounters.\n",
    "\n",
    "We can considered the first and last encounter separately as possible representations of multiple encounters. So we are going to evaluate the balance of the data in order to see wich aproach is better\n"
   ]
  },
  {
   "cell_type": "markdown",
   "metadata": {},
   "source": [
    "#### Readmissions vs No Readmissions using this approach"
   ]
  },
  {
   "cell_type": "markdown",
   "metadata": {},
   "source": [
    "Since we are primarily interested in factors that lead to early readmission, we defined the readmission attribute (outcome) as having two values: “readmitted,” if the patient was readmitted within 30 days of discharge or “otherwise,” which covers both readmission after 30 days and no readmission at all."
   ]
  },
  {
   "cell_type": "code",
   "execution_count": 45,
   "metadata": {},
   "outputs": [
    {
     "data": {
      "text/plain": [
       "28866"
      ]
     },
     "execution_count": 45,
     "metadata": {},
     "output_type": "execute_result"
    }
   ],
   "source": [
    "#keeping the last encounter\n",
    "duplicated_last_approach = df[df.duplicated(subset=['patient_nbr'], keep='last')]\n",
    "len(duplicated_last_approach)"
   ]
  },
  {
   "cell_type": "code",
   "execution_count": 46,
   "metadata": {},
   "outputs": [
    {
     "data": {
      "text/plain": [
       "7725"
      ]
     },
     "execution_count": 46,
     "metadata": {},
     "output_type": "execute_result"
    }
   ],
   "source": [
    "last_encounter_readmission = duplicated_last_approach[duplicated_last_approach['readmitted'] == '<30']\n",
    "len(last_encounter_readmission)"
   ]
  },
  {
   "cell_type": "code",
   "execution_count": 47,
   "metadata": {},
   "outputs": [
    {
     "name": "stdout",
     "output_type": "stream",
     "text": [
      "keeping the last encounters we get 28866 records for which 27 % of patients has been readmitted\n"
     ]
    }
   ],
   "source": [
    "percentage_of_readmission = len(last_encounter_readmission)/len(duplicated_last_approach)\n",
    "print(f'keeping the last encounters we get {len(duplicated_last_approach)} records for which {round(percentage_of_readmission * 100)} % of patients has been readmitted')"
   ]
  },
  {
   "cell_type": "code",
   "execution_count": 48,
   "metadata": {},
   "outputs": [
    {
     "data": {
      "text/plain": [
       "28866"
      ]
     },
     "execution_count": 48,
     "metadata": {},
     "output_type": "execute_result"
    }
   ],
   "source": [
    "#keeping the first encounter\n",
    "duplicated_first_approach = df[df.duplicated(subset=['patient_nbr'], keep='first')]\n",
    "len(duplicated_first_approach)"
   ]
  },
  {
   "cell_type": "code",
   "execution_count": 49,
   "metadata": {},
   "outputs": [
    {
     "data": {
      "text/plain": [
       "4937"
      ]
     },
     "execution_count": 49,
     "metadata": {},
     "output_type": "execute_result"
    }
   ],
   "source": [
    "first_encounter_readmission = duplicated_first_approach[duplicated_first_approach['readmitted'] == '<30']\n",
    "len(first_encounter_readmission)"
   ]
  },
  {
   "cell_type": "code",
   "execution_count": 50,
   "metadata": {},
   "outputs": [
    {
     "name": "stdout",
     "output_type": "stream",
     "text": [
      "keeping the first encounters we get 28866 records for which 17 % of patients has been readmitted\n"
     ]
    }
   ],
   "source": [
    "percentage_of_readmission = len(first_encounter_readmission)/len(duplicated_first_approach)\n",
    "print(f'keeping the first encounters we get {len(duplicated_first_approach)} records for which {round(percentage_of_readmission * 100)} % of patients has been readmitted')"
   ]
  },
  {
   "cell_type": "markdown",
   "metadata": {},
   "source": [
    "Using the last encounters approach we end up with a less imbalanced data for readmissions (27/73 Readmissions vs No Readmissions) and so we are going to use last encounters of patients"
   ]
  },
  {
   "cell_type": "code",
   "execution_count": 51,
   "metadata": {},
   "outputs": [
    {
     "data": {
      "text/plain": [
       "(67580, 47)"
      ]
     },
     "execution_count": 51,
     "metadata": {},
     "output_type": "execute_result"
    }
   ],
   "source": [
    "df = df.drop_duplicates(subset= ['patient_nbr'], keep = 'last')\n",
    "df.shape"
   ]
  },
  {
   "cell_type": "code",
   "execution_count": 52,
   "metadata": {},
   "outputs": [
    {
     "name": "stderr",
     "output_type": "stream",
     "text": [
      "<ipython-input-52-f8b82aaa1b66>:1: SettingWithCopyWarning: \n",
      "A value is trying to be set on a copy of a slice from a DataFrame.\n",
      "Try using .loc[row_indexer,col_indexer] = value instead\n",
      "\n",
      "See the caveats in the documentation: https://pandas.pydata.org/pandas-docs/stable/user_guide/indexing.html#returning-a-view-versus-a-copy\n",
      "  df['readmitted'] = df['readmitted'].replace('>30', 0)\n",
      "<ipython-input-52-f8b82aaa1b66>:2: SettingWithCopyWarning: \n",
      "A value is trying to be set on a copy of a slice from a DataFrame.\n",
      "Try using .loc[row_indexer,col_indexer] = value instead\n",
      "\n",
      "See the caveats in the documentation: https://pandas.pydata.org/pandas-docs/stable/user_guide/indexing.html#returning-a-view-versus-a-copy\n",
      "  df['readmitted'] = df['readmitted'].replace('<30', 1)\n",
      "<ipython-input-52-f8b82aaa1b66>:3: SettingWithCopyWarning: \n",
      "A value is trying to be set on a copy of a slice from a DataFrame.\n",
      "Try using .loc[row_indexer,col_indexer] = value instead\n",
      "\n",
      "See the caveats in the documentation: https://pandas.pydata.org/pandas-docs/stable/user_guide/indexing.html#returning-a-view-versus-a-copy\n",
      "  df['readmitted'] = df['readmitted'].replace('NO', 0)\n"
     ]
    },
    {
     "data": {
      "image/png": "[encoded data removed]",
      "text/plain": [
       "<Figure size 432x288 with 1 Axes>"
      ]
     },
     "metadata": {},
     "output_type": "display_data"
    }
   ],
   "source": [
    "df['readmitted'] = df['readmitted'].replace('>30', 0)\n",
    "df['readmitted'] = df['readmitted'].replace('<30', 1)\n",
    "df['readmitted'] = df['readmitted'].replace('NO', 0)\n",
    "\n",
    "df.readmitted.value_counts().plot.pie(autopct = \"%.1f%%\")\n",
    "plt.title(\"Proportion of Target Value\")\n",
    "plt.show()"
   ]
  },
  {
   "cell_type": "markdown",
   "metadata": {},
   "source": [
    "## Pre-Modeling Data Preprocessing"
   ]
  },
  {
   "cell_type": "code",
   "execution_count": 53,
   "metadata": {},
   "outputs": [
    {
     "name": "stderr",
     "output_type": "stream",
     "text": [
      "c:\\users\\silo\\appdata\\local\\programs\\python\\python38\\lib\\site-packages\\pandas\\core\\frame.py:2963: SettingWithCopyWarning: \n",
      "A value is trying to be set on a copy of a slice from a DataFrame.\n",
      "Try using .loc[row_indexer,col_indexer] = value instead\n",
      "\n",
      "See the caveats in the documentation: https://pandas.pydata.org/pandas-docs/stable/user_guide/indexing.html#returning-a-view-versus-a-copy\n",
      "  self[k1] = value[k2]\n"
     ]
    }
   ],
   "source": [
    "# convert data type of nominal features in dataframe to 'object' type\n",
    "i = ['encounter_id', 'patient_nbr', 'gender', 'admission_type_id', 'discharge_disposition_id', 'admission_source_id',\\\n",
    "          'A1Cresult', 'metformin', 'repaglinide', 'nateglinide', 'chlorpropamide', 'glimepiride', 'acetohexamide', \\\n",
    "          'glipizide', 'glyburide', 'tolbutamide', 'pioglitazone', 'rosiglitazone', 'acarbose','miglitol', \\\n",
    "          'troglitazone', 'tolazamide', 'insulin', 'glyburide-metformin', 'glipizide-metformin', \\\n",
    "          'glimepiride-pioglitazone', 'metformin-rosiglitazone', 'metformin-pioglitazone', 'change', 'diabetesMed', \\\n",
    "          'age', 'A1Cresult', 'max_glu_serum']\n",
    "\n",
    "df[i] = df[i].astype('object')"
   ]
  },
  {
   "cell_type": "code",
   "execution_count": 54,
   "metadata": {},
   "outputs": [
    {
     "data": {
      "text/plain": [
       "encounter_id                object\n",
       "patient_nbr                 object\n",
       "race                        object\n",
       "gender                      object\n",
       "age                         object\n",
       "admission_type_id           object\n",
       "discharge_disposition_id    object\n",
       "admission_source_id         object\n",
       "time_in_hospital             int64\n",
       "num_lab_procedures           int64\n",
       "num_procedures               int64\n",
       "num_medications              int64\n",
       "number_outpatient            int64\n",
       "number_emergency             int64\n",
       "number_inpatient             int64\n",
       "diag_1                      object\n",
       "diag_2                      object\n",
       "diag_3                      object\n",
       "number_diagnoses             int64\n",
       "max_glu_serum               object\n",
       "A1Cresult                   object\n",
       "metformin                   object\n",
       "repaglinide                 object\n",
       "nateglinide                 object\n",
       "chlorpropamide              object\n",
       "glimepiride                 object\n",
       "acetohexamide               object\n",
       "glipizide                   object\n",
       "glyburide                   object\n",
       "tolbutamide                 object\n",
       "pioglitazone                object\n",
       "rosiglitazone               object\n",
       "acarbose                    object\n",
       "miglitol                    object\n",
       "troglitazone                object\n",
       "tolazamide                  object\n",
       "insulin                     object\n",
       "glyburide-metformin         object\n",
       "glipizide-metformin         object\n",
       "glimepiride-pioglitazone    object\n",
       "metformin-rosiglitazone     object\n",
       "metformin-pioglitazone      object\n",
       "change                      object\n",
       "diabetesMed                 object\n",
       "readmitted                   int64\n",
       "hospital_service_usage       int64\n",
       "numchange                    int64\n",
       "dtype: object"
      ]
     },
     "execution_count": 54,
     "metadata": {},
     "output_type": "execute_result"
    }
   ],
   "source": [
    "df.dtypes"
   ]
  },
  {
   "cell_type": "code",
   "execution_count": 55,
   "metadata": {},
   "outputs": [
    {
     "name": "stderr",
     "output_type": "stream",
     "text": [
      "<ipython-input-55-4deb19d2eb0e>:2: SettingWithCopyWarning: \n",
      "A value is trying to be set on a copy of a slice from a DataFrame.\n",
      "Try using .loc[row_indexer,col_indexer] = value instead\n",
      "\n",
      "See the caveats in the documentation: https://pandas.pydata.org/pandas-docs/stable/user_guide/indexing.html#returning-a-view-versus-a-copy\n",
      "  df['num_med'] = 0\n",
      "<ipython-input-55-4deb19d2eb0e>:5: SettingWithCopyWarning: \n",
      "A value is trying to be set on a copy of a slice from a DataFrame.\n",
      "Try using .loc[row_indexer,col_indexer] = value instead\n",
      "\n",
      "See the caveats in the documentation: https://pandas.pydata.org/pandas-docs/stable/user_guide/indexing.html#returning-a-view-versus-a-copy\n",
      "  df['num_med'] = df['num_med'] + df[col]\n"
     ]
    },
    {
     "data": {
      "text/plain": [
       "1    30302\n",
       "0    16322\n",
       "2    14742\n",
       "3     5253\n",
       "4      914\n",
       "5       44\n",
       "6        3\n",
       "Name: num_med, dtype: int64"
      ]
     },
     "execution_count": 55,
     "metadata": {},
     "output_type": "execute_result"
    }
   ],
   "source": [
    "#number of medication used\n",
    "df['num_med'] = 0\n",
    "\n",
    "for col in drugs:\n",
    "    df['num_med'] = df['num_med'] + df[col]\n",
    "df['num_med'].value_counts()"
   ]
  },
  {
   "cell_type": "code",
   "execution_count": 56,
   "metadata": {},
   "outputs": [
    {
     "data": {
      "text/plain": [
       "['number_emergency',\n",
       " 'num_medications',\n",
       " 'numchange',\n",
       " 'num_procedures',\n",
       " 'number_outpatient',\n",
       " 'number_inpatient',\n",
       " 'number_diagnoses',\n",
       " 'time_in_hospital',\n",
       " 'num_lab_procedures',\n",
       " 'hospital_service_usage']"
      ]
     },
     "execution_count": 56,
     "metadata": {},
     "output_type": "execute_result"
    }
   ],
   "source": [
    "# get list of only numeric features\n",
    "num_col = list(set(list(df._get_numeric_data().columns))- {'readmitted'})\n",
    "num_col"
   ]
  },
  {
   "cell_type": "code",
   "execution_count": 57,
   "metadata": {},
   "outputs": [],
   "source": [
    "# Removing skewnewss and kurtosis using log transformation if it is above a threshold value -  2\n",
    "\n",
    "statdataframe = pd.DataFrame()\n",
    "statdataframe['numeric_column'] = num_col\n",
    "skew_before = []\n",
    "skew_after = []\n",
    "\n",
    "kurt_before = []\n",
    "kurt_after = []\n",
    "\n",
    "standard_deviation_before = []\n",
    "standard_deviation_after = []\n",
    "\n",
    "log_transform_needed = []\n",
    "\n",
    "log_type = []\n",
    "\n",
    "for i in num_col:\n",
    "    skewval = df[i].skew()\n",
    "    skew_before.append(skewval)\n",
    "    \n",
    "    kurtval = df[i].kurtosis()\n",
    "    kurt_before.append(kurtval)\n",
    "    \n",
    "    sdval = df[i].std()\n",
    "    standard_deviation_before.append(sdval)\n",
    "    \n",
    "    if (abs(skewval) >2) & (abs(kurtval) >2):\n",
    "        log_transform_needed.append('Yes')\n",
    "        \n",
    "        if len(df[df[i] == 0])/len(df) <=0.02:\n",
    "            log_type.append('log')\n",
    "            skewvalnew = np.log(pd.DataFrame(df[train_data[i] > 0])[i]).skew()\n",
    "            skew_after.append(skewvalnew)\n",
    "            \n",
    "            kurtvalnew = np.log(pd.DataFrame(df[train_data[i] > 0])[i]).kurtosis()\n",
    "            kurt_after.append(kurtvalnew)\n",
    "            \n",
    "            sdvalnew = np.log(pd.DataFrame(df[train_data[i] > 0])[i]).std()\n",
    "            standard_deviation_after.append(sdvalnew)\n",
    "            \n",
    "        else:\n",
    "            log_type.append('log1p')\n",
    "            skewvalnew = np.log1p(pd.DataFrame(df[df[i] >= 0])[i]).skew()\n",
    "            skew_after.append(skewvalnew)\n",
    "        \n",
    "            kurtvalnew = np.log1p(pd.DataFrame(df[df[i] >= 0])[i]).kurtosis()\n",
    "            kurt_after.append(kurtvalnew)\n",
    "            \n",
    "            sdvalnew = np.log1p(pd.DataFrame(df[df[i] >= 0])[i]).std()\n",
    "            standard_deviation_after.append(sdvalnew)\n",
    "            \n",
    "    else:\n",
    "        log_type.append('NA')\n",
    "        log_transform_needed.append('No')\n",
    "        \n",
    "        skew_after.append(skewval)\n",
    "        kurt_after.append(kurtval)\n",
    "        standard_deviation_after.append(sdval)\n",
    "\n",
    "statdataframe['skew_before'] = skew_before\n",
    "statdataframe['kurtosis_before'] = kurt_before\n",
    "statdataframe['standard_deviation_before'] = standard_deviation_before\n",
    "statdataframe['log_transform_needed'] = log_transform_needed\n",
    "statdataframe['log_type'] = log_type\n",
    "statdataframe['skew_after'] = skew_after\n",
    "statdataframe['kurtosis_after'] = kurt_after\n",
    "statdataframe['standard_deviation_after'] = standard_deviation_after"
   ]
  },
  {
   "cell_type": "code",
   "execution_count": 58,
   "metadata": {},
   "outputs": [
    {
     "data": {
      "text/html": [
       "<div>\n",
       "<style scoped>\n",
       "    .dataframe tbody tr th:only-of-type {\n",
       "        vertical-align: middle;\n",
       "    }\n",
       "\n",
       "    .dataframe tbody tr th {\n",
       "        vertical-align: top;\n",
       "    }\n",
       "\n",
       "    .dataframe thead th {\n",
       "        text-align: right;\n",
       "    }\n",
       "</style>\n",
       "<table border=\"1\" class=\"dataframe\">\n",
       "  <thead>\n",
       "    <tr style=\"text-align: right;\">\n",
       "      <th></th>\n",
       "      <th>numeric_column</th>\n",
       "      <th>skew_before</th>\n",
       "      <th>kurtosis_before</th>\n",
       "      <th>standard_deviation_before</th>\n",
       "      <th>log_transform_needed</th>\n",
       "      <th>log_type</th>\n",
       "      <th>skew_after</th>\n",
       "      <th>kurtosis_after</th>\n",
       "      <th>standard_deviation_after</th>\n",
       "    </tr>\n",
       "  </thead>\n",
       "  <tbody>\n",
       "    <tr>\n",
       "      <th>0</th>\n",
       "      <td>number_emergency</td>\n",
       "      <td>21.710910</td>\n",
       "      <td>1074.217308</td>\n",
       "      <td>0.692307</td>\n",
       "      <td>Yes</td>\n",
       "      <td>log1p</td>\n",
       "      <td>3.926430</td>\n",
       "      <td>18.859096</td>\n",
       "      <td>0.268686</td>\n",
       "    </tr>\n",
       "    <tr>\n",
       "      <th>1</th>\n",
       "      <td>num_medications</td>\n",
       "      <td>1.381942</td>\n",
       "      <td>3.589054</td>\n",
       "      <td>8.212125</td>\n",
       "      <td>No</td>\n",
       "      <td>NA</td>\n",
       "      <td>1.381942</td>\n",
       "      <td>3.589054</td>\n",
       "      <td>8.212125</td>\n",
       "    </tr>\n",
       "    <tr>\n",
       "      <th>2</th>\n",
       "      <td>numchange</td>\n",
       "      <td>1.569535</td>\n",
       "      <td>1.969646</td>\n",
       "      <td>0.478385</td>\n",
       "      <td>No</td>\n",
       "      <td>NA</td>\n",
       "      <td>1.569535</td>\n",
       "      <td>1.969646</td>\n",
       "      <td>0.478385</td>\n",
       "    </tr>\n",
       "    <tr>\n",
       "      <th>3</th>\n",
       "      <td>num_procedures</td>\n",
       "      <td>1.254774</td>\n",
       "      <td>0.669737</td>\n",
       "      <td>1.731684</td>\n",
       "      <td>No</td>\n",
       "      <td>NA</td>\n",
       "      <td>1.254774</td>\n",
       "      <td>0.669737</td>\n",
       "      <td>1.731684</td>\n",
       "    </tr>\n",
       "    <tr>\n",
       "      <th>4</th>\n",
       "      <td>number_outpatient</td>\n",
       "      <td>9.107214</td>\n",
       "      <td>158.220970</td>\n",
       "      <td>1.195114</td>\n",
       "      <td>Yes</td>\n",
       "      <td>log1p</td>\n",
       "      <td>2.899433</td>\n",
       "      <td>8.848428</td>\n",
       "      <td>0.411562</td>\n",
       "    </tr>\n",
       "    <tr>\n",
       "      <th>5</th>\n",
       "      <td>number_inpatient</td>\n",
       "      <td>3.565698</td>\n",
       "      <td>20.074345</td>\n",
       "      <td>1.001481</td>\n",
       "      <td>Yes</td>\n",
       "      <td>log1p</td>\n",
       "      <td>1.645893</td>\n",
       "      <td>2.019077</td>\n",
       "      <td>0.450604</td>\n",
       "    </tr>\n",
       "    <tr>\n",
       "      <th>6</th>\n",
       "      <td>number_diagnoses</td>\n",
       "      <td>-0.727462</td>\n",
       "      <td>-0.522964</td>\n",
       "      <td>1.871410</td>\n",
       "      <td>No</td>\n",
       "      <td>NA</td>\n",
       "      <td>-0.727462</td>\n",
       "      <td>-0.522964</td>\n",
       "      <td>1.871410</td>\n",
       "    </tr>\n",
       "    <tr>\n",
       "      <th>7</th>\n",
       "      <td>time_in_hospital</td>\n",
       "      <td>1.156949</td>\n",
       "      <td>0.913354</td>\n",
       "      <td>2.977258</td>\n",
       "      <td>No</td>\n",
       "      <td>NA</td>\n",
       "      <td>1.156949</td>\n",
       "      <td>0.913354</td>\n",
       "      <td>2.977258</td>\n",
       "    </tr>\n",
       "    <tr>\n",
       "      <th>8</th>\n",
       "      <td>num_lab_procedures</td>\n",
       "      <td>-0.230880</td>\n",
       "      <td>-0.266456</td>\n",
       "      <td>19.811533</td>\n",
       "      <td>No</td>\n",
       "      <td>NA</td>\n",
       "      <td>-0.230880</td>\n",
       "      <td>-0.266456</td>\n",
       "      <td>19.811533</td>\n",
       "    </tr>\n",
       "    <tr>\n",
       "      <th>9</th>\n",
       "      <td>hospital_service_usage</td>\n",
       "      <td>5.388040</td>\n",
       "      <td>66.409949</td>\n",
       "      <td>1.884709</td>\n",
       "      <td>Yes</td>\n",
       "      <td>log1p</td>\n",
       "      <td>1.254378</td>\n",
       "      <td>0.890133</td>\n",
       "      <td>0.607281</td>\n",
       "    </tr>\n",
       "  </tbody>\n",
       "</table>\n",
       "</div>"
      ],
      "text/plain": [
       "           numeric_column  skew_before  kurtosis_before  \\\n",
       "0        number_emergency    21.710910      1074.217308   \n",
       "1         num_medications     1.381942         3.589054   \n",
       "2               numchange     1.569535         1.969646   \n",
       "3          num_procedures     1.254774         0.669737   \n",
       "4       number_outpatient     9.107214       158.220970   \n",
       "5        number_inpatient     3.565698        20.074345   \n",
       "6        number_diagnoses    -0.727462        -0.522964   \n",
       "7        time_in_hospital     1.156949         0.913354   \n",
       "8      num_lab_procedures    -0.230880        -0.266456   \n",
       "9  hospital_service_usage     5.388040        66.409949   \n",
       "\n",
       "   standard_deviation_before log_transform_needed log_type  skew_after  \\\n",
       "0                   0.692307                  Yes    log1p    3.926430   \n",
       "1                   8.212125                   No       NA    1.381942   \n",
       "2                   0.478385                   No       NA    1.569535   \n",
       "3                   1.731684                   No       NA    1.254774   \n",
       "4                   1.195114                  Yes    log1p    2.899433   \n",
       "5                   1.001481                  Yes    log1p    1.645893   \n",
       "6                   1.871410                   No       NA   -0.727462   \n",
       "7                   2.977258                   No       NA    1.156949   \n",
       "8                  19.811533                   No       NA   -0.230880   \n",
       "9                   1.884709                  Yes    log1p    1.254378   \n",
       "\n",
       "   kurtosis_after  standard_deviation_after  \n",
       "0       18.859096                  0.268686  \n",
       "1        3.589054                  8.212125  \n",
       "2        1.969646                  0.478385  \n",
       "3        0.669737                  1.731684  \n",
       "4        8.848428                  0.411562  \n",
       "5        2.019077                  0.450604  \n",
       "6       -0.522964                  1.871410  \n",
       "7        0.913354                  2.977258  \n",
       "8       -0.266456                 19.811533  \n",
       "9        0.890133                  0.607281  "
      ]
     },
     "execution_count": 58,
     "metadata": {},
     "output_type": "execute_result"
    }
   ],
   "source": [
    "statdataframe"
   ]
  },
  {
   "cell_type": "code",
   "execution_count": 59,
   "metadata": {},
   "outputs": [],
   "source": [
    "# perform log transformation.\n",
    "\n",
    "for i in range(len(statdataframe)):\n",
    "    if statdataframe['log_transform_needed'][i] == 'Yes':\n",
    "        colname = str(statdataframe['numeric_column'][i])\n",
    "        \n",
    "        if statdataframe['log_type'][i] == 'log':\n",
    "            df = df[df[colname] > 0]\n",
    "            df[colname + \"_log\"] = np.log(df[colname])\n",
    "            \n",
    "        elif statdataframe['log_type'][i] == 'log1p':\n",
    "            df = df[df[colname] >= 0]\n",
    "            df[colname + \"_log1p\"] = np.log1p(df[colname])"
   ]
  },
  {
   "cell_type": "code",
   "execution_count": 60,
   "metadata": {},
   "outputs": [],
   "source": [
    "#drop columns with no tranformation\n",
    "df = df.drop(['number_outpatient', 'number_inpatient', 'number_emergency','hospital_service_usage'], axis = 1)"
   ]
  },
  {
   "cell_type": "code",
   "execution_count": 61,
   "metadata": {},
   "outputs": [
    {
     "data": {
      "text/plain": [
       "48"
      ]
     },
     "execution_count": 61,
     "metadata": {},
     "output_type": "execute_result"
    }
   ],
   "source": [
    "len(df.columns)"
   ]
  },
  {
   "cell_type": "code",
   "execution_count": 62,
   "metadata": {},
   "outputs": [
    {
     "data": {
      "text/plain": [
       "['hospital_service_usage_log1p',\n",
       " 'num_medications',\n",
       " 'number_emergency_log1p',\n",
       " 'numchange',\n",
       " 'num_procedures',\n",
       " 'number_diagnoses',\n",
       " 'number_inpatient_log1p',\n",
       " 'time_in_hospital',\n",
       " 'num_lab_procedures',\n",
       " 'number_outpatient_log1p']"
      ]
     },
     "execution_count": 62,
     "metadata": {},
     "output_type": "execute_result"
    }
   ],
   "source": [
    "# get list of only numeric features\n",
    "numerics = list(set(list(df._get_numeric_data().columns))- {'readmitted'})\n",
    "numerics"
   ]
  },
  {
   "cell_type": "code",
   "execution_count": 63,
   "metadata": {},
   "outputs": [
    {
     "data": {
      "text/plain": [
       "<AxesSubplot:>"
      ]
     },
     "execution_count": 63,
     "metadata": {},
     "output_type": "execute_result"
    },
    {
     "data": {
      "image/png": "[encoded data removed]",
      "text/plain": [
       "<Figure size 432x288 with 2 Axes>"
      ]
     },
     "metadata": {
      "needs_background": "light"
     },
     "output_type": "display_data"
    }
   ],
   "source": [
    "# covariance - uses spearman rank covariance coeff.\n",
    "sns.heatmap(df[numerics].corr(), annot =  True)\n"
   ]
  },
  {
   "cell_type": "markdown",
   "metadata": {},
   "source": [
    "### bivariate analysis of related features"
   ]
  },
  {
   "cell_type": "code",
   "execution_count": 64,
   "metadata": {},
   "outputs": [
    {
     "data": {
      "image/png": "[encoded data removed]",
      "text/plain": [
       "<Figure size 432x288 with 1 Axes>"
      ]
     },
     "metadata": {
      "needs_background": "light"
     },
     "output_type": "display_data"
    }
   ],
   "source": [
    "#\n",
    "\n",
    "#number of emergency visit/hospital usage\n",
    "var = 'number_emergency_log1p'\n",
    "data = pd.concat([df['hospital_service_usage_log1p'], df[var]], axis=1)\n",
    "data.plot.scatter(x=var, y='hospital_service_usage_log1p');"
   ]
  },
  {
   "cell_type": "code",
   "execution_count": 65,
   "metadata": {},
   "outputs": [
    {
     "data": {
      "image/png": "[encoded data removed]",
      "text/plain": [
       "<Figure size 432x288 with 1 Axes>"
      ]
     },
     "metadata": {
      "needs_background": "light"
     },
     "output_type": "display_data"
    }
   ],
   "source": [
    "#number of inpatient visit/hospital usage\n",
    "var = 'number_inpatient_log1p'\n",
    "data = pd.concat([df['hospital_service_usage_log1p'], df[var]], axis=1)\n",
    "data.plot.scatter(x=var, y='hospital_service_usage_log1p');"
   ]
  },
  {
   "cell_type": "code",
   "execution_count": 66,
   "metadata": {},
   "outputs": [
    {
     "data": {
      "image/png": "[encoded data removed]",
      "text/plain": [
       "<Figure size 432x288 with 1 Axes>"
      ]
     },
     "metadata": {
      "needs_background": "light"
     },
     "output_type": "display_data"
    }
   ],
   "source": [
    "#number of outpatient visit/hospital usage\n",
    "var = 'number_outpatient_log1p'\n",
    "data = pd.concat([df['hospital_service_usage_log1p'], df[var]], axis=1)\n",
    "data.plot.scatter(x=var, y='hospital_service_usage_log1p');"
   ]
  },
  {
   "cell_type": "code",
   "execution_count": 67,
   "metadata": {},
   "outputs": [],
   "source": [
    "# show list of features that are categorical\n",
    "df.encounter_id = df.encounter_id.astype('int64')\n",
    "df.patient_nbr = df.patient_nbr.astype('int64')\n",
    "df.diabetesMed = df.diabetesMed.astype('int64')\n",
    "df.change = df.change.astype('int64')\n",
    "\n",
    "# convert data type of nominal features in dataframe to 'object' type for aggregating\n",
    "i = ['metformin', 'repaglinide', 'nateglinide', 'chlorpropamide', 'glimepiride', 'acetohexamide', \\\n",
    "          'glipizide', 'glyburide', 'tolbutamide','pioglitazone', 'rosiglitazone', 'acarbose','miglitol', \\\n",
    "          'troglitazone', 'tolazamide','insulin', 'glyburide-metformin', 'glipizide-metformin', \\\n",
    "          'glimepiride-pioglitazone','metformin-rosiglitazone', 'metformin-pioglitazone','A1Cresult']\n",
    "df[i] = df[i].astype('int64')"
   ]
  },
  {
   "cell_type": "code",
   "execution_count": 68,
   "metadata": {},
   "outputs": [],
   "source": [
    "dfcopy = df.copy(deep = True)"
   ]
  },
  {
   "cell_type": "code",
   "execution_count": 69,
   "metadata": {},
   "outputs": [
    {
     "data": {
      "text/plain": [
       "(67580, 48)"
      ]
     },
     "execution_count": 69,
     "metadata": {},
     "output_type": "execute_result"
    }
   ],
   "source": [
    "df.shape"
   ]
  },
  {
   "cell_type": "markdown",
   "metadata": {},
   "source": [
    "## Feature Scaling"
   ]
  },
  {
   "cell_type": "code",
   "execution_count": 70,
   "metadata": {},
   "outputs": [],
   "source": [
    "from sklearn.preprocessing import StandardScaler\n",
    "scaler = StandardScaler()\n",
    "# transform data\n",
    "scaled = scaler.fit_transform(df[numerics])"
   ]
  },
  {
   "cell_type": "code",
   "execution_count": 71,
   "metadata": {},
   "outputs": [
    {
     "data": {
      "text/html": [
       "<div>\n",
       "<style scoped>\n",
       "    .dataframe tbody tr th:only-of-type {\n",
       "        vertical-align: middle;\n",
       "    }\n",
       "\n",
       "    .dataframe tbody tr th {\n",
       "        vertical-align: top;\n",
       "    }\n",
       "\n",
       "    .dataframe thead th {\n",
       "        text-align: right;\n",
       "    }\n",
       "</style>\n",
       "<table border=\"1\" class=\"dataframe\">\n",
       "  <thead>\n",
       "    <tr style=\"text-align: right;\">\n",
       "      <th></th>\n",
       "      <th>hospital_service_usage_log1p</th>\n",
       "      <th>num_medications</th>\n",
       "      <th>number_emergency_log1p</th>\n",
       "      <th>numchange</th>\n",
       "      <th>num_procedures</th>\n",
       "      <th>number_diagnoses</th>\n",
       "      <th>number_inpatient_log1p</th>\n",
       "      <th>time_in_hospital</th>\n",
       "      <th>num_lab_procedures</th>\n",
       "      <th>number_outpatient_log1p</th>\n",
       "    </tr>\n",
       "  </thead>\n",
       "  <tbody>\n",
       "    <tr>\n",
       "      <th>1</th>\n",
       "      <td>0.000000</td>\n",
       "      <td>18</td>\n",
       "      <td>0.0</td>\n",
       "      <td>1</td>\n",
       "      <td>0</td>\n",
       "      <td>9</td>\n",
       "      <td>0.000000</td>\n",
       "      <td>3</td>\n",
       "      <td>59</td>\n",
       "      <td>0.000000</td>\n",
       "    </tr>\n",
       "    <tr>\n",
       "      <th>2</th>\n",
       "      <td>1.386294</td>\n",
       "      <td>13</td>\n",
       "      <td>0.0</td>\n",
       "      <td>0</td>\n",
       "      <td>5</td>\n",
       "      <td>6</td>\n",
       "      <td>0.693147</td>\n",
       "      <td>2</td>\n",
       "      <td>11</td>\n",
       "      <td>1.098612</td>\n",
       "    </tr>\n",
       "    <tr>\n",
       "      <th>3</th>\n",
       "      <td>0.000000</td>\n",
       "      <td>16</td>\n",
       "      <td>0.0</td>\n",
       "      <td>1</td>\n",
       "      <td>1</td>\n",
       "      <td>7</td>\n",
       "      <td>0.000000</td>\n",
       "      <td>2</td>\n",
       "      <td>44</td>\n",
       "      <td>0.000000</td>\n",
       "    </tr>\n",
       "    <tr>\n",
       "      <th>4</th>\n",
       "      <td>0.000000</td>\n",
       "      <td>8</td>\n",
       "      <td>0.0</td>\n",
       "      <td>0</td>\n",
       "      <td>0</td>\n",
       "      <td>5</td>\n",
       "      <td>0.000000</td>\n",
       "      <td>1</td>\n",
       "      <td>51</td>\n",
       "      <td>0.000000</td>\n",
       "    </tr>\n",
       "    <tr>\n",
       "      <th>5</th>\n",
       "      <td>0.000000</td>\n",
       "      <td>16</td>\n",
       "      <td>0.0</td>\n",
       "      <td>0</td>\n",
       "      <td>6</td>\n",
       "      <td>9</td>\n",
       "      <td>0.000000</td>\n",
       "      <td>3</td>\n",
       "      <td>31</td>\n",
       "      <td>0.000000</td>\n",
       "    </tr>\n",
       "    <tr>\n",
       "      <th>...</th>\n",
       "      <td>...</td>\n",
       "      <td>...</td>\n",
       "      <td>...</td>\n",
       "      <td>...</td>\n",
       "      <td>...</td>\n",
       "      <td>...</td>\n",
       "      <td>...</td>\n",
       "      <td>...</td>\n",
       "      <td>...</td>\n",
       "      <td>...</td>\n",
       "    </tr>\n",
       "    <tr>\n",
       "      <th>101761</th>\n",
       "      <td>0.000000</td>\n",
       "      <td>16</td>\n",
       "      <td>0.0</td>\n",
       "      <td>1</td>\n",
       "      <td>0</td>\n",
       "      <td>9</td>\n",
       "      <td>0.000000</td>\n",
       "      <td>3</td>\n",
       "      <td>51</td>\n",
       "      <td>0.000000</td>\n",
       "    </tr>\n",
       "    <tr>\n",
       "      <th>101762</th>\n",
       "      <td>0.693147</td>\n",
       "      <td>18</td>\n",
       "      <td>0.0</td>\n",
       "      <td>0</td>\n",
       "      <td>3</td>\n",
       "      <td>9</td>\n",
       "      <td>0.693147</td>\n",
       "      <td>5</td>\n",
       "      <td>33</td>\n",
       "      <td>0.000000</td>\n",
       "    </tr>\n",
       "    <tr>\n",
       "      <th>101763</th>\n",
       "      <td>0.693147</td>\n",
       "      <td>9</td>\n",
       "      <td>0.0</td>\n",
       "      <td>1</td>\n",
       "      <td>0</td>\n",
       "      <td>13</td>\n",
       "      <td>0.000000</td>\n",
       "      <td>1</td>\n",
       "      <td>53</td>\n",
       "      <td>0.693147</td>\n",
       "    </tr>\n",
       "    <tr>\n",
       "      <th>101764</th>\n",
       "      <td>0.693147</td>\n",
       "      <td>21</td>\n",
       "      <td>0.0</td>\n",
       "      <td>1</td>\n",
       "      <td>2</td>\n",
       "      <td>9</td>\n",
       "      <td>0.693147</td>\n",
       "      <td>10</td>\n",
       "      <td>45</td>\n",
       "      <td>0.000000</td>\n",
       "    </tr>\n",
       "    <tr>\n",
       "      <th>101765</th>\n",
       "      <td>0.000000</td>\n",
       "      <td>3</td>\n",
       "      <td>0.0</td>\n",
       "      <td>0</td>\n",
       "      <td>3</td>\n",
       "      <td>9</td>\n",
       "      <td>0.000000</td>\n",
       "      <td>6</td>\n",
       "      <td>13</td>\n",
       "      <td>0.000000</td>\n",
       "    </tr>\n",
       "  </tbody>\n",
       "</table>\n",
       "<p>67580 rows × 10 columns</p>\n",
       "</div>"
      ],
      "text/plain": [
       "        hospital_service_usage_log1p  num_medications  number_emergency_log1p  \\\n",
       "1                           0.000000               18                     0.0   \n",
       "2                           1.386294               13                     0.0   \n",
       "3                           0.000000               16                     0.0   \n",
       "4                           0.000000                8                     0.0   \n",
       "5                           0.000000               16                     0.0   \n",
       "...                              ...              ...                     ...   \n",
       "101761                      0.000000               16                     0.0   \n",
       "101762                      0.693147               18                     0.0   \n",
       "101763                      0.693147                9                     0.0   \n",
       "101764                      0.693147               21                     0.0   \n",
       "101765                      0.000000                3                     0.0   \n",
       "\n",
       "        numchange  num_procedures  number_diagnoses  number_inpatient_log1p  \\\n",
       "1               1               0                 9                0.000000   \n",
       "2               0               5                 6                0.693147   \n",
       "3               1               1                 7                0.000000   \n",
       "4               0               0                 5                0.000000   \n",
       "5               0               6                 9                0.000000   \n",
       "...           ...             ...               ...                     ...   \n",
       "101761          1               0                 9                0.000000   \n",
       "101762          0               3                 9                0.693147   \n",
       "101763          1               0                13                0.000000   \n",
       "101764          1               2                 9                0.693147   \n",
       "101765          0               3                 9                0.000000   \n",
       "\n",
       "        time_in_hospital  num_lab_procedures  number_outpatient_log1p  \n",
       "1                      3                  59                 0.000000  \n",
       "2                      2                  11                 1.098612  \n",
       "3                      2                  44                 0.000000  \n",
       "4                      1                  51                 0.000000  \n",
       "5                      3                  31                 0.000000  \n",
       "...                  ...                 ...                      ...  \n",
       "101761                 3                  51                 0.000000  \n",
       "101762                 5                  33                 0.000000  \n",
       "101763                 1                  53                 0.693147  \n",
       "101764                10                  45                 0.000000  \n",
       "101765                 6                  13                 0.000000  \n",
       "\n",
       "[67580 rows x 10 columns]"
      ]
     },
     "execution_count": 71,
     "metadata": {},
     "output_type": "execute_result"
    }
   ],
   "source": [
    "df[numerics]"
   ]
  },
  {
   "cell_type": "code",
   "execution_count": 72,
   "metadata": {},
   "outputs": [
    {
     "data": {
      "text/plain": [
       "Index(['encounter_id', 'patient_nbr', 'race', 'gender', 'age',\n",
       "       'admission_type_id', 'discharge_disposition_id', 'admission_source_id',\n",
       "       'time_in_hospital', 'num_lab_procedures', 'num_procedures',\n",
       "       'num_medications', 'diag_1', 'diag_2', 'diag_3', 'number_diagnoses',\n",
       "       'max_glu_serum', 'A1Cresult', 'metformin', 'repaglinide', 'nateglinide',\n",
       "       'chlorpropamide', 'glimepiride', 'acetohexamide', 'glipizide',\n",
       "       'glyburide', 'tolbutamide', 'pioglitazone', 'rosiglitazone', 'acarbose',\n",
       "       'miglitol', 'troglitazone', 'tolazamide', 'insulin',\n",
       "       'glyburide-metformin', 'glipizide-metformin',\n",
       "       'glimepiride-pioglitazone', 'metformin-rosiglitazone',\n",
       "       'metformin-pioglitazone', 'change', 'diabetesMed', 'readmitted',\n",
       "       'numchange', 'num_med', 'number_emergency_log1p',\n",
       "       'number_outpatient_log1p', 'number_inpatient_log1p',\n",
       "       'hospital_service_usage_log1p'],\n",
       "      dtype='object')"
      ]
     },
     "execution_count": 72,
     "metadata": {},
     "output_type": "execute_result"
    }
   ],
   "source": [
    "df.columns"
   ]
  },
  {
   "cell_type": "code",
   "execution_count": 73,
   "metadata": {},
   "outputs": [],
   "source": [
    "non_num_cols = ['race', 'gender', 'admission_type_id', 'discharge_disposition_id', 'admission_source_id', \n",
    "                'max_glu_serum', 'A1Cresult' ]"
   ]
  },
  {
   "cell_type": "code",
   "execution_count": 74,
   "metadata": {},
   "outputs": [],
   "source": [
    "# num_cols = list(set(list(df._get_numeric_data().columns))- {'readmitted', 'change'})\n",
    "# len(num_cols)"
   ]
  },
  {
   "cell_type": "markdown",
   "metadata": {},
   "source": [
    "### One Hot Encoder - variables with many categories"
   ]
  },
  {
   "cell_type": "code",
   "execution_count": 75,
   "metadata": {},
   "outputs": [
    {
     "name": "stdout",
     "output_type": "stream",
     "text": [
      "race: 5 categories\n",
      "gender: 2 categories\n",
      "admission_type_id: 8 categories\n",
      "discharge_disposition_id: 25 categories\n",
      "admission_source_id: 17 categories\n",
      "max_glu_serum: 3 categories\n",
      "A1Cresult: 3 categories\n"
     ]
    }
   ],
   "source": [
    "#how many categories each variable has\n",
    "for col in df[non_num_cols]:\n",
    "    print(f'{col}: {len(df[col].unique())} categories')"
   ]
  },
  {
   "cell_type": "markdown",
   "metadata": {},
   "source": [
    "The features 'discharge_disposition_id' and 'admission_source_id' have lot of categories, if we use one hot encoding we end up with 40 new features.\n",
    "\n",
    "In the winning solution of the KDD 2009 cup: Winning the KDD Cup Orange Challenge with Ensemble Selection the authors limit one hot encoding to the 10 most frequent labels only. This is equivalent to grouping all the other labels under a new category, that in this case will be dropped. Thus, the 10 new dummies variables indicate if one of the 10 most frequent labels is present(1) or not (0) for a particular observation"
   ]
  },
  {
   "cell_type": "code",
   "execution_count": 76,
   "metadata": {
    "scrolled": true
   },
   "outputs": [
    {
     "data": {
      "text/plain": [
       "1     41539\n",
       "3      9155\n",
       "6      8347\n",
       "18     2357\n",
       "2      1412\n",
       "22     1283\n",
       "5       799\n",
       "25      540\n",
       "4       513\n",
       "7       392\n",
       "Name: discharge_disposition_id, dtype: int64"
      ]
     },
     "execution_count": 76,
     "metadata": {},
     "output_type": "execute_result"
    }
   ],
   "source": [
    "#lets find the top 10 most frequent categories for the variable discharge_disposition_id\n",
    "df.discharge_disposition_id.value_counts().sort_values(ascending = False).head(10)"
   ]
  },
  {
   "cell_type": "code",
   "execution_count": 77,
   "metadata": {},
   "outputs": [
    {
     "data": {
      "text/plain": [
       "[1, 3, 6, 18, 2, 22, 5, 25, 4, 7]"
      ]
     },
     "execution_count": 77,
     "metadata": {},
     "output_type": "execute_result"
    }
   ],
   "source": [
    "#lets make a list with the most frequent categories of the variable\n",
    "top_10_dd = [ x for x in df.discharge_disposition_id.value_counts().sort_values(ascending=False).head(10).index]\n",
    "top_10_dd"
   ]
  },
  {
   "cell_type": "code",
   "execution_count": 78,
   "metadata": {},
   "outputs": [],
   "source": [
    "# and now we make the 10 binary variables\n",
    "for label in top_10_dd:\n",
    "  df['discharge_disposition_id'+'_'+ str(label)]= np.where(df['discharge_disposition_id']==label,1,0)"
   ]
  },
  {
   "cell_type": "code",
   "execution_count": 79,
   "metadata": {},
   "outputs": [
    {
     "data": {
      "text/plain": [
       "(67580, 58)"
      ]
     },
     "execution_count": 79,
     "metadata": {},
     "output_type": "execute_result"
    }
   ],
   "source": [
    "df.shape"
   ]
  },
  {
   "cell_type": "code",
   "execution_count": 80,
   "metadata": {},
   "outputs": [],
   "source": [
    "df = df.drop(columns= ['discharge_disposition_id'])"
   ]
  },
  {
   "cell_type": "markdown",
   "metadata": {},
   "source": [
    "Same process for admission_source_id"
   ]
  },
  {
   "cell_type": "code",
   "execution_count": 81,
   "metadata": {},
   "outputs": [
    {
     "data": {
      "text/plain": [
       "[7, 1, 17, 4, 6, 2, 5, 20, 3, 9]"
      ]
     },
     "execution_count": 81,
     "metadata": {},
     "output_type": "execute_result"
    }
   ],
   "source": [
    "top_10_as = [ x for x in df.admission_source_id.value_counts().sort_values(ascending=False).head(10).index]\n",
    "top_10_as"
   ]
  },
  {
   "cell_type": "code",
   "execution_count": 82,
   "metadata": {},
   "outputs": [],
   "source": [
    "for label_ in top_10_dd:\n",
    "  df['admission_source_id'+'_'+ str(label_)]= np.where(df['admission_source_id']==label_,1,0)"
   ]
  },
  {
   "cell_type": "code",
   "execution_count": 83,
   "metadata": {},
   "outputs": [],
   "source": [
    "df = df.drop(columns= ['admission_source_id'])"
   ]
  },
  {
   "cell_type": "code",
   "execution_count": 84,
   "metadata": {},
   "outputs": [
    {
     "data": {
      "text/plain": [
       "Index(['encounter_id', 'patient_nbr', 'race', 'gender', 'age',\n",
       "       'admission_type_id', 'time_in_hospital', 'num_lab_procedures',\n",
       "       'num_procedures', 'num_medications', 'diag_1', 'diag_2', 'diag_3',\n",
       "       'number_diagnoses', 'max_glu_serum', 'A1Cresult', 'metformin',\n",
       "       'repaglinide', 'nateglinide', 'chlorpropamide', 'glimepiride',\n",
       "       'acetohexamide', 'glipizide', 'glyburide', 'tolbutamide',\n",
       "       'pioglitazone', 'rosiglitazone', 'acarbose', 'miglitol', 'troglitazone',\n",
       "       'tolazamide', 'insulin', 'glyburide-metformin', 'glipizide-metformin',\n",
       "       'glimepiride-pioglitazone', 'metformin-rosiglitazone',\n",
       "       'metformin-pioglitazone', 'change', 'diabetesMed', 'readmitted',\n",
       "       'numchange', 'num_med', 'number_emergency_log1p',\n",
       "       'number_outpatient_log1p', 'number_inpatient_log1p',\n",
       "       'hospital_service_usage_log1p', 'discharge_disposition_id_1',\n",
       "       'discharge_disposition_id_3', 'discharge_disposition_id_6',\n",
       "       'discharge_disposition_id_18', 'discharge_disposition_id_2',\n",
       "       'discharge_disposition_id_22', 'discharge_disposition_id_5',\n",
       "       'discharge_disposition_id_25', 'discharge_disposition_id_4',\n",
       "       'discharge_disposition_id_7', 'admission_source_id_1',\n",
       "       'admission_source_id_3', 'admission_source_id_6',\n",
       "       'admission_source_id_18', 'admission_source_id_2',\n",
       "       'admission_source_id_22', 'admission_source_id_5',\n",
       "       'admission_source_id_25', 'admission_source_id_4',\n",
       "       'admission_source_id_7'],\n",
       "      dtype='object')"
      ]
     },
     "execution_count": 84,
     "metadata": {},
     "output_type": "execute_result"
    }
   ],
   "source": [
    "df.columns"
   ]
  },
  {
   "cell_type": "code",
   "execution_count": 85,
   "metadata": {},
   "outputs": [],
   "source": [
    "df = df.drop(columns= ['encounter_id','patient_nbr','diag_1','diag_2','diag_3'])"
   ]
  },
  {
   "cell_type": "code",
   "execution_count": 86,
   "metadata": {},
   "outputs": [
    {
     "data": {
      "text/plain": [
       "array([-99,   1,   0], dtype=int64)"
      ]
     },
     "execution_count": 86,
     "metadata": {},
     "output_type": "execute_result"
    }
   ],
   "source": [
    "df.A1Cresult.unique()"
   ]
  },
  {
   "cell_type": "code",
   "execution_count": 87,
   "metadata": {},
   "outputs": [
    {
     "data": {
      "text/html": [
       "<div>\n",
       "<style scoped>\n",
       "    .dataframe tbody tr th:only-of-type {\n",
       "        vertical-align: middle;\n",
       "    }\n",
       "\n",
       "    .dataframe tbody tr th {\n",
       "        vertical-align: top;\n",
       "    }\n",
       "\n",
       "    .dataframe thead th {\n",
       "        text-align: right;\n",
       "    }\n",
       "</style>\n",
       "<table border=\"1\" class=\"dataframe\">\n",
       "  <thead>\n",
       "    <tr style=\"text-align: right;\">\n",
       "      <th></th>\n",
       "      <th>number_emergency_log1p</th>\n",
       "      <th>number_outpatient_log1p</th>\n",
       "      <th>number_inpatient_log1p</th>\n",
       "      <th>hospital_service_usage_log1p</th>\n",
       "      <th>discharge_disposition_id_1</th>\n",
       "      <th>discharge_disposition_id_3</th>\n",
       "      <th>discharge_disposition_id_6</th>\n",
       "      <th>discharge_disposition_id_18</th>\n",
       "      <th>discharge_disposition_id_2</th>\n",
       "      <th>discharge_disposition_id_22</th>\n",
       "    </tr>\n",
       "  </thead>\n",
       "  <tbody>\n",
       "    <tr>\n",
       "      <th>1</th>\n",
       "      <td>0.0</td>\n",
       "      <td>0.000000</td>\n",
       "      <td>0.000000</td>\n",
       "      <td>0.000000</td>\n",
       "      <td>1</td>\n",
       "      <td>0</td>\n",
       "      <td>0</td>\n",
       "      <td>0</td>\n",
       "      <td>0</td>\n",
       "      <td>0</td>\n",
       "    </tr>\n",
       "    <tr>\n",
       "      <th>2</th>\n",
       "      <td>0.0</td>\n",
       "      <td>1.098612</td>\n",
       "      <td>0.693147</td>\n",
       "      <td>1.386294</td>\n",
       "      <td>1</td>\n",
       "      <td>0</td>\n",
       "      <td>0</td>\n",
       "      <td>0</td>\n",
       "      <td>0</td>\n",
       "      <td>0</td>\n",
       "    </tr>\n",
       "    <tr>\n",
       "      <th>3</th>\n",
       "      <td>0.0</td>\n",
       "      <td>0.000000</td>\n",
       "      <td>0.000000</td>\n",
       "      <td>0.000000</td>\n",
       "      <td>1</td>\n",
       "      <td>0</td>\n",
       "      <td>0</td>\n",
       "      <td>0</td>\n",
       "      <td>0</td>\n",
       "      <td>0</td>\n",
       "    </tr>\n",
       "    <tr>\n",
       "      <th>4</th>\n",
       "      <td>0.0</td>\n",
       "      <td>0.000000</td>\n",
       "      <td>0.000000</td>\n",
       "      <td>0.000000</td>\n",
       "      <td>1</td>\n",
       "      <td>0</td>\n",
       "      <td>0</td>\n",
       "      <td>0</td>\n",
       "      <td>0</td>\n",
       "      <td>0</td>\n",
       "    </tr>\n",
       "    <tr>\n",
       "      <th>5</th>\n",
       "      <td>0.0</td>\n",
       "      <td>0.000000</td>\n",
       "      <td>0.000000</td>\n",
       "      <td>0.000000</td>\n",
       "      <td>1</td>\n",
       "      <td>0</td>\n",
       "      <td>0</td>\n",
       "      <td>0</td>\n",
       "      <td>0</td>\n",
       "      <td>0</td>\n",
       "    </tr>\n",
       "    <tr>\n",
       "      <th>6</th>\n",
       "      <td>0.0</td>\n",
       "      <td>0.000000</td>\n",
       "      <td>0.000000</td>\n",
       "      <td>0.000000</td>\n",
       "      <td>1</td>\n",
       "      <td>0</td>\n",
       "      <td>0</td>\n",
       "      <td>0</td>\n",
       "      <td>0</td>\n",
       "      <td>0</td>\n",
       "    </tr>\n",
       "    <tr>\n",
       "      <th>7</th>\n",
       "      <td>0.0</td>\n",
       "      <td>0.000000</td>\n",
       "      <td>0.000000</td>\n",
       "      <td>0.000000</td>\n",
       "      <td>1</td>\n",
       "      <td>0</td>\n",
       "      <td>0</td>\n",
       "      <td>0</td>\n",
       "      <td>0</td>\n",
       "      <td>0</td>\n",
       "    </tr>\n",
       "    <tr>\n",
       "      <th>8</th>\n",
       "      <td>0.0</td>\n",
       "      <td>0.000000</td>\n",
       "      <td>0.000000</td>\n",
       "      <td>0.000000</td>\n",
       "      <td>1</td>\n",
       "      <td>0</td>\n",
       "      <td>0</td>\n",
       "      <td>0</td>\n",
       "      <td>0</td>\n",
       "      <td>0</td>\n",
       "    </tr>\n",
       "    <tr>\n",
       "      <th>9</th>\n",
       "      <td>0.0</td>\n",
       "      <td>0.000000</td>\n",
       "      <td>0.000000</td>\n",
       "      <td>0.000000</td>\n",
       "      <td>0</td>\n",
       "      <td>1</td>\n",
       "      <td>0</td>\n",
       "      <td>0</td>\n",
       "      <td>0</td>\n",
       "      <td>0</td>\n",
       "    </tr>\n",
       "    <tr>\n",
       "      <th>10</th>\n",
       "      <td>0.0</td>\n",
       "      <td>0.000000</td>\n",
       "      <td>0.000000</td>\n",
       "      <td>0.000000</td>\n",
       "      <td>1</td>\n",
       "      <td>0</td>\n",
       "      <td>0</td>\n",
       "      <td>0</td>\n",
       "      <td>0</td>\n",
       "      <td>0</td>\n",
       "    </tr>\n",
       "  </tbody>\n",
       "</table>\n",
       "</div>"
      ],
      "text/plain": [
       "    number_emergency_log1p  number_outpatient_log1p  number_inpatient_log1p  \\\n",
       "1                      0.0                 0.000000                0.000000   \n",
       "2                      0.0                 1.098612                0.693147   \n",
       "3                      0.0                 0.000000                0.000000   \n",
       "4                      0.0                 0.000000                0.000000   \n",
       "5                      0.0                 0.000000                0.000000   \n",
       "6                      0.0                 0.000000                0.000000   \n",
       "7                      0.0                 0.000000                0.000000   \n",
       "8                      0.0                 0.000000                0.000000   \n",
       "9                      0.0                 0.000000                0.000000   \n",
       "10                     0.0                 0.000000                0.000000   \n",
       "\n",
       "    hospital_service_usage_log1p  discharge_disposition_id_1  \\\n",
       "1                       0.000000                           1   \n",
       "2                       1.386294                           1   \n",
       "3                       0.000000                           1   \n",
       "4                       0.000000                           1   \n",
       "5                       0.000000                           1   \n",
       "6                       0.000000                           1   \n",
       "7                       0.000000                           1   \n",
       "8                       0.000000                           1   \n",
       "9                       0.000000                           0   \n",
       "10                      0.000000                           1   \n",
       "\n",
       "    discharge_disposition_id_3  discharge_disposition_id_6  \\\n",
       "1                            0                           0   \n",
       "2                            0                           0   \n",
       "3                            0                           0   \n",
       "4                            0                           0   \n",
       "5                            0                           0   \n",
       "6                            0                           0   \n",
       "7                            0                           0   \n",
       "8                            0                           0   \n",
       "9                            1                           0   \n",
       "10                           0                           0   \n",
       "\n",
       "    discharge_disposition_id_18  discharge_disposition_id_2  \\\n",
       "1                             0                           0   \n",
       "2                             0                           0   \n",
       "3                             0                           0   \n",
       "4                             0                           0   \n",
       "5                             0                           0   \n",
       "6                             0                           0   \n",
       "7                             0                           0   \n",
       "8                             0                           0   \n",
       "9                             0                           0   \n",
       "10                            0                           0   \n",
       "\n",
       "    discharge_disposition_id_22  \n",
       "1                             0  \n",
       "2                             0  \n",
       "3                             0  \n",
       "4                             0  \n",
       "5                             0  \n",
       "6                             0  \n",
       "7                             0  \n",
       "8                             0  \n",
       "9                             0  \n",
       "10                            0  "
      ]
     },
     "execution_count": 87,
     "metadata": {},
     "output_type": "execute_result"
    }
   ],
   "source": [
    "#showing some columns\n",
    "df.iloc[:10,37:47]"
   ]
  },
  {
   "cell_type": "code",
   "execution_count": 88,
   "metadata": {},
   "outputs": [],
   "source": [
    "df = pd.get_dummies(df,columns=['race', 'admission_type_id',\n",
    "                                                   'max_glu_serum', 'A1Cresult' ],drop_first = True)"
   ]
  },
  {
   "cell_type": "code",
   "execution_count": 89,
   "metadata": {},
   "outputs": [
    {
     "data": {
      "text/plain": [
       "(67580, 72)"
      ]
     },
     "execution_count": 89,
     "metadata": {},
     "output_type": "execute_result"
    }
   ],
   "source": [
    "df.shape"
   ]
  },
  {
   "cell_type": "code",
   "execution_count": 90,
   "metadata": {},
   "outputs": [
    {
     "data": {
      "text/plain": [
       "array([0, 1], dtype=int64)"
      ]
     },
     "execution_count": 90,
     "metadata": {},
     "output_type": "execute_result"
    }
   ],
   "source": [
    "df.readmitted.unique()"
   ]
  },
  {
   "cell_type": "code",
   "execution_count": 91,
   "metadata": {},
   "outputs": [],
   "source": [
    "X = df.loc[:, ~df.columns.isin(['readmitted'])]\n",
    "y = df['readmitted']"
   ]
  },
  {
   "cell_type": "code",
   "execution_count": 92,
   "metadata": {},
   "outputs": [
    {
     "data": {
      "text/plain": [
       "(67580, 71)"
      ]
     },
     "execution_count": 92,
     "metadata": {},
     "output_type": "execute_result"
    }
   ],
   "source": [
    "X.shape"
   ]
  },
  {
   "cell_type": "code",
   "execution_count": 93,
   "metadata": {},
   "outputs": [
    {
     "data": {
      "text/plain": [
       "0    64239\n",
       "1     3341\n",
       "Name: readmitted, dtype: int64"
      ]
     },
     "execution_count": 93,
     "metadata": {},
     "output_type": "execute_result"
    }
   ],
   "source": [
    "df['readmitted'].value_counts()"
   ]
  },
  {
   "cell_type": "code",
   "execution_count": 94,
   "metadata": {},
   "outputs": [
    {
     "data": {
      "text/plain": [
       "Index(['gender', 'age', 'time_in_hospital', 'num_lab_procedures',\n",
       "       'num_procedures', 'num_medications', 'number_diagnoses', 'metformin',\n",
       "       'repaglinide', 'nateglinide', 'chlorpropamide', 'glimepiride',\n",
       "       'acetohexamide', 'glipizide', 'glyburide', 'tolbutamide',\n",
       "       'pioglitazone', 'rosiglitazone', 'acarbose', 'miglitol', 'troglitazone',\n",
       "       'tolazamide', 'insulin', 'glyburide-metformin', 'glipizide-metformin',\n",
       "       'glimepiride-pioglitazone', 'metformin-rosiglitazone',\n",
       "       'metformin-pioglitazone', 'change', 'diabetesMed', 'numchange',\n",
       "       'num_med', 'number_emergency_log1p', 'number_outpatient_log1p',\n",
       "       'number_inpatient_log1p', 'hospital_service_usage_log1p',\n",
       "       'discharge_disposition_id_1', 'discharge_disposition_id_3',\n",
       "       'discharge_disposition_id_6', 'discharge_disposition_id_18',\n",
       "       'discharge_disposition_id_2', 'discharge_disposition_id_22',\n",
       "       'discharge_disposition_id_5', 'discharge_disposition_id_25',\n",
       "       'discharge_disposition_id_4', 'discharge_disposition_id_7',\n",
       "       'admission_source_id_1', 'admission_source_id_3',\n",
       "       'admission_source_id_6', 'admission_source_id_18',\n",
       "       'admission_source_id_2', 'admission_source_id_22',\n",
       "       'admission_source_id_5', 'admission_source_id_25',\n",
       "       'admission_source_id_4', 'admission_source_id_7', 'race_Asian',\n",
       "       'race_Caucasian', 'race_Hispanic', 'race_Other', 'admission_type_id_2',\n",
       "       'admission_type_id_3', 'admission_type_id_4', 'admission_type_id_5',\n",
       "       'admission_type_id_6', 'admission_type_id_7', 'admission_type_id_8',\n",
       "       'max_glu_serum_0', 'max_glu_serum_1', 'A1Cresult_0', 'A1Cresult_1'],\n",
       "      dtype='object')"
      ]
     },
     "execution_count": 94,
     "metadata": {},
     "output_type": "execute_result"
    }
   ],
   "source": [
    "X.columns"
   ]
  },
  {
   "cell_type": "markdown",
   "metadata": {},
   "source": [
    "## Logistic Regression"
   ]
  },
  {
   "cell_type": "code",
   "execution_count": 95,
   "metadata": {},
   "outputs": [
    {
     "name": "stderr",
     "output_type": "stream",
     "text": [
      "c:\\users\\silo\\appdata\\local\\programs\\python\\python38\\lib\\site-packages\\sklearn\\linear_model\\_logistic.py:763: ConvergenceWarning: lbfgs failed to converge (status=1):\n",
      "STOP: TOTAL NO. of ITERATIONS REACHED LIMIT.\n",
      "\n",
      "Increase the number of iterations (max_iter) or scale the data as shown in:\n",
      "    https://scikit-learn.org/stable/modules/preprocessing.html\n",
      "Please also refer to the documentation for alternative solver options:\n",
      "    https://scikit-learn.org/stable/modules/linear_model.html#logistic-regression\n",
      "  n_iter_i = _check_optimize_result(\n"
     ]
    },
    {
     "data": {
      "text/plain": [
       "LogisticRegression(max_iter=1000)"
      ]
     },
     "execution_count": 95,
     "metadata": {},
     "output_type": "execute_result"
    }
   ],
   "source": [
    "from sklearn.model_selection import train_test_split\n",
    "from sklearn.linear_model import LogisticRegression\n",
    "from sklearn.model_selection import cross_val_score\n",
    "X_train, X_test, y_train, y_test = train_test_split(X, y, test_size=0.20, random_state=0)\n",
    "logit = LogisticRegression(fit_intercept=True, penalty='l2',solver='lbfgs', max_iter=1000) \n",
    "logit.fit(X_train, y_train)"
   ]
  },
  {
   "cell_type": "code",
   "execution_count": 96,
   "metadata": {},
   "outputs": [],
   "source": [
    "logit_pred = logit.predict(X_test)"
   ]
  },
  {
   "cell_type": "code",
   "execution_count": 97,
   "metadata": {},
   "outputs": [
    {
     "data": {
      "text/plain": [
       "0.9491713524711453"
      ]
     },
     "execution_count": 97,
     "metadata": {},
     "output_type": "execute_result"
    }
   ],
   "source": [
    "logit.score(X_test,y_test)"
   ]
  },
  {
   "cell_type": "code",
   "execution_count": 98,
   "metadata": {},
   "outputs": [
    {
     "name": "stdout",
     "output_type": "stream",
     "text": [
      "          pred:0  pred:1\n",
      "actual:0   12829       0\n",
      "actual:1     687       0\n"
     ]
    }
   ],
   "source": [
    "from sklearn.metrics import confusion_matrix\n",
    "cmtx = pd.DataFrame(\n",
    "    confusion_matrix(y_test, logit_pred), \n",
    "    index=['actual:0', 'actual:1'], \n",
    "    columns=['pred:0', 'pred:1']\n",
    ")\n",
    "print(cmtx)\n"
   ]
  },
  {
   "cell_type": "code",
   "execution_count": 99,
   "metadata": {},
   "outputs": [
    {
     "name": "stdout",
     "output_type": "stream",
     "text": [
      "Accuracy is 0.95\n",
      "Precision is 0.00\n",
      "Recall is 0.00\n",
      "f1Score is 0.00\n"
     ]
    },
    {
     "name": "stderr",
     "output_type": "stream",
     "text": [
      "c:\\users\\silo\\appdata\\local\\programs\\python\\python38\\lib\\site-packages\\sklearn\\metrics\\_classification.py:1248: UndefinedMetricWarning: Precision is ill-defined and being set to 0.0 due to no predicted samples. Use `zero_division` parameter to control this behavior.\n",
      "  _warn_prf(average, modifier, msg_start, len(result))\n"
     ]
    }
   ],
   "source": [
    "from sklearn.metrics import accuracy_score, precision_score, recall_score , f1_score\n",
    "print(f'Accuracy is {accuracy_score(y_test, logit_pred):.2f}')\n",
    "print(f'Precision is {precision_score(y_test, logit_pred):.2f}')\n",
    "print(f'Recall is {recall_score(y_test, logit_pred):.2f}')\n",
    "print(f'f1Score is {f1_score(y_test, logit_pred):.2f}')"
   ]
  },
  {
   "cell_type": "markdown",
   "metadata": {},
   "source": [
    "Since our target variable is having class imbalance problem, So will use SMOTE technique to resolve it"
   ]
  },
  {
   "cell_type": "code",
   "execution_count": 100,
   "metadata": {},
   "outputs": [
    {
     "name": "stdout",
     "output_type": "stream",
     "text": [
      "Original dataset shape Counter({0: 51410, 1: 2654})\n",
      "New dataset shape Counter({0: 51410, 1: 51410})\n"
     ]
    }
   ],
   "source": [
    "from imblearn.over_sampling import SMOTE\n",
    "from collections import Counter\n",
    "print(f'Original dataset shape {Counter(y_train)}')\n",
    "sm = SMOTE(random_state=20)\n",
    "train_input_new, train_output_new = sm.fit_resample(X_train, y_train)\n",
    "print(f'New dataset shape {Counter(train_output_new)}')"
   ]
  },
  {
   "cell_type": "code",
   "execution_count": 101,
   "metadata": {},
   "outputs": [
    {
     "name": "stderr",
     "output_type": "stream",
     "text": [
      "c:\\users\\silo\\appdata\\local\\programs\\python\\python38\\lib\\site-packages\\sklearn\\linear_model\\_logistic.py:763: ConvergenceWarning: lbfgs failed to converge (status=1):\n",
      "STOP: TOTAL NO. of ITERATIONS REACHED LIMIT.\n",
      "\n",
      "Increase the number of iterations (max_iter) or scale the data as shown in:\n",
      "    https://scikit-learn.org/stable/modules/preprocessing.html\n",
      "Please also refer to the documentation for alternative solver options:\n",
      "    https://scikit-learn.org/stable/modules/linear_model.html#logistic-regression\n",
      "  n_iter_i = _check_optimize_result(\n"
     ]
    },
    {
     "data": {
      "text/plain": [
       "LogisticRegression()"
      ]
     },
     "execution_count": 101,
     "metadata": {},
     "output_type": "execute_result"
    }
   ],
   "source": [
    "train_input_new = pd.DataFrame(train_input_new, columns = list(X.columns))\n",
    "from sklearn.model_selection import train_test_split\n",
    "from sklearn.linear_model import LogisticRegression\n",
    "from sklearn.model_selection import cross_val_score\n",
    "X_train, X_test, y_train, y_test = train_test_split(train_input_new, train_output_new, test_size=0.20, random_state=0)\n",
    "logit = LogisticRegression(fit_intercept=True, penalty='l2')\n",
    "logit.fit(X_train, y_train)"
   ]
  },
  {
   "cell_type": "code",
   "execution_count": 102,
   "metadata": {},
   "outputs": [],
   "source": [
    "logit_pred = logit.predict(X_test)"
   ]
  },
  {
   "cell_type": "code",
   "execution_count": 103,
   "metadata": {},
   "outputs": [
    {
     "name": "stdout",
     "output_type": "stream",
     "text": [
      "          pred:0  pred:1\n",
      "actual:0    9251    1045\n",
      "actual:1    1510    8758\n"
     ]
    }
   ],
   "source": [
    "cmtx = pd.DataFrame(\n",
    "    confusion_matrix(y_test, logit_pred), \n",
    "    index=['actual:0', 'actual:1'], \n",
    "    columns=['pred:0', 'pred:1']\n",
    ")\n",
    "print(cmtx)"
   ]
  },
  {
   "cell_type": "code",
   "execution_count": 104,
   "metadata": {},
   "outputs": [
    {
     "name": "stdout",
     "output_type": "stream",
     "text": [
      "Accuracy is 0.88\n",
      "Precision is 0.89\n",
      "Recall is 0.85\n",
      "f1Score is 0.87\n"
     ]
    }
   ],
   "source": [
    "print(f\"Accuracy is {accuracy_score(y_test, logit_pred):.2f}\")\n",
    "print(f\"Precision is {precision_score(y_test, logit_pred):.2f}\")\n",
    "print(f\"Recall is {recall_score(y_test, logit_pred):.2f}\")\n",
    "print(f\"f1Score is {f1_score(y_test, logit_pred):.2f}\")"
   ]
  },
  {
   "cell_type": "markdown",
   "metadata": {},
   "source": [
    "We are going to give more importance to Recall because we consider more relevant to detect correctly the cases when the patient need to be readmitted"
   ]
  },
  {
   "cell_type": "code",
   "execution_count": 105,
   "metadata": {},
   "outputs": [
    {
     "data": {
      "text/html": [
       "<div>\n",
       "<style scoped>\n",
       "    .dataframe tbody tr th:only-of-type {\n",
       "        vertical-align: middle;\n",
       "    }\n",
       "\n",
       "    .dataframe tbody tr th {\n",
       "        vertical-align: top;\n",
       "    }\n",
       "\n",
       "    .dataframe thead th {\n",
       "        text-align: right;\n",
       "    }\n",
       "</style>\n",
       "<table border=\"1\" class=\"dataframe\">\n",
       "  <thead>\n",
       "    <tr style=\"text-align: right;\">\n",
       "      <th></th>\n",
       "      <th>time_in_hospital</th>\n",
       "      <th>num_lab_procedures</th>\n",
       "      <th>num_procedures</th>\n",
       "      <th>num_medications</th>\n",
       "      <th>number_diagnoses</th>\n",
       "      <th>metformin</th>\n",
       "      <th>repaglinide</th>\n",
       "      <th>nateglinide</th>\n",
       "      <th>chlorpropamide</th>\n",
       "      <th>glimepiride</th>\n",
       "      <th>...</th>\n",
       "      <th>admission_type_id_3</th>\n",
       "      <th>admission_type_id_4</th>\n",
       "      <th>admission_type_id_5</th>\n",
       "      <th>admission_type_id_6</th>\n",
       "      <th>admission_type_id_7</th>\n",
       "      <th>admission_type_id_8</th>\n",
       "      <th>max_glu_serum_0</th>\n",
       "      <th>max_glu_serum_1</th>\n",
       "      <th>A1Cresult_0</th>\n",
       "      <th>A1Cresult_1</th>\n",
       "    </tr>\n",
       "  </thead>\n",
       "  <tbody>\n",
       "    <tr>\n",
       "      <th>1</th>\n",
       "      <td>3</td>\n",
       "      <td>59</td>\n",
       "      <td>0</td>\n",
       "      <td>18</td>\n",
       "      <td>9</td>\n",
       "      <td>0</td>\n",
       "      <td>0</td>\n",
       "      <td>0</td>\n",
       "      <td>0</td>\n",
       "      <td>0</td>\n",
       "      <td>...</td>\n",
       "      <td>0</td>\n",
       "      <td>0</td>\n",
       "      <td>0</td>\n",
       "      <td>0</td>\n",
       "      <td>0</td>\n",
       "      <td>0</td>\n",
       "      <td>0</td>\n",
       "      <td>0</td>\n",
       "      <td>0</td>\n",
       "      <td>0</td>\n",
       "    </tr>\n",
       "    <tr>\n",
       "      <th>2</th>\n",
       "      <td>2</td>\n",
       "      <td>11</td>\n",
       "      <td>5</td>\n",
       "      <td>13</td>\n",
       "      <td>6</td>\n",
       "      <td>0</td>\n",
       "      <td>0</td>\n",
       "      <td>0</td>\n",
       "      <td>0</td>\n",
       "      <td>0</td>\n",
       "      <td>...</td>\n",
       "      <td>0</td>\n",
       "      <td>0</td>\n",
       "      <td>0</td>\n",
       "      <td>0</td>\n",
       "      <td>0</td>\n",
       "      <td>0</td>\n",
       "      <td>0</td>\n",
       "      <td>0</td>\n",
       "      <td>0</td>\n",
       "      <td>0</td>\n",
       "    </tr>\n",
       "    <tr>\n",
       "      <th>3</th>\n",
       "      <td>2</td>\n",
       "      <td>44</td>\n",
       "      <td>1</td>\n",
       "      <td>16</td>\n",
       "      <td>7</td>\n",
       "      <td>0</td>\n",
       "      <td>0</td>\n",
       "      <td>0</td>\n",
       "      <td>0</td>\n",
       "      <td>0</td>\n",
       "      <td>...</td>\n",
       "      <td>0</td>\n",
       "      <td>0</td>\n",
       "      <td>0</td>\n",
       "      <td>0</td>\n",
       "      <td>0</td>\n",
       "      <td>0</td>\n",
       "      <td>0</td>\n",
       "      <td>0</td>\n",
       "      <td>0</td>\n",
       "      <td>0</td>\n",
       "    </tr>\n",
       "    <tr>\n",
       "      <th>4</th>\n",
       "      <td>1</td>\n",
       "      <td>51</td>\n",
       "      <td>0</td>\n",
       "      <td>8</td>\n",
       "      <td>5</td>\n",
       "      <td>0</td>\n",
       "      <td>0</td>\n",
       "      <td>0</td>\n",
       "      <td>0</td>\n",
       "      <td>0</td>\n",
       "      <td>...</td>\n",
       "      <td>0</td>\n",
       "      <td>0</td>\n",
       "      <td>0</td>\n",
       "      <td>0</td>\n",
       "      <td>0</td>\n",
       "      <td>0</td>\n",
       "      <td>0</td>\n",
       "      <td>0</td>\n",
       "      <td>0</td>\n",
       "      <td>0</td>\n",
       "    </tr>\n",
       "    <tr>\n",
       "      <th>5</th>\n",
       "      <td>3</td>\n",
       "      <td>31</td>\n",
       "      <td>6</td>\n",
       "      <td>16</td>\n",
       "      <td>9</td>\n",
       "      <td>0</td>\n",
       "      <td>0</td>\n",
       "      <td>0</td>\n",
       "      <td>0</td>\n",
       "      <td>0</td>\n",
       "      <td>...</td>\n",
       "      <td>0</td>\n",
       "      <td>0</td>\n",
       "      <td>0</td>\n",
       "      <td>0</td>\n",
       "      <td>0</td>\n",
       "      <td>0</td>\n",
       "      <td>0</td>\n",
       "      <td>0</td>\n",
       "      <td>0</td>\n",
       "      <td>0</td>\n",
       "    </tr>\n",
       "    <tr>\n",
       "      <th>...</th>\n",
       "      <td>...</td>\n",
       "      <td>...</td>\n",
       "      <td>...</td>\n",
       "      <td>...</td>\n",
       "      <td>...</td>\n",
       "      <td>...</td>\n",
       "      <td>...</td>\n",
       "      <td>...</td>\n",
       "      <td>...</td>\n",
       "      <td>...</td>\n",
       "      <td>...</td>\n",
       "      <td>...</td>\n",
       "      <td>...</td>\n",
       "      <td>...</td>\n",
       "      <td>...</td>\n",
       "      <td>...</td>\n",
       "      <td>...</td>\n",
       "      <td>...</td>\n",
       "      <td>...</td>\n",
       "      <td>...</td>\n",
       "      <td>...</td>\n",
       "    </tr>\n",
       "    <tr>\n",
       "      <th>101761</th>\n",
       "      <td>3</td>\n",
       "      <td>51</td>\n",
       "      <td>0</td>\n",
       "      <td>16</td>\n",
       "      <td>9</td>\n",
       "      <td>1</td>\n",
       "      <td>0</td>\n",
       "      <td>0</td>\n",
       "      <td>0</td>\n",
       "      <td>0</td>\n",
       "      <td>...</td>\n",
       "      <td>0</td>\n",
       "      <td>0</td>\n",
       "      <td>0</td>\n",
       "      <td>0</td>\n",
       "      <td>0</td>\n",
       "      <td>0</td>\n",
       "      <td>0</td>\n",
       "      <td>0</td>\n",
       "      <td>0</td>\n",
       "      <td>1</td>\n",
       "    </tr>\n",
       "    <tr>\n",
       "      <th>101762</th>\n",
       "      <td>5</td>\n",
       "      <td>33</td>\n",
       "      <td>3</td>\n",
       "      <td>18</td>\n",
       "      <td>9</td>\n",
       "      <td>0</td>\n",
       "      <td>0</td>\n",
       "      <td>0</td>\n",
       "      <td>0</td>\n",
       "      <td>0</td>\n",
       "      <td>...</td>\n",
       "      <td>0</td>\n",
       "      <td>0</td>\n",
       "      <td>0</td>\n",
       "      <td>0</td>\n",
       "      <td>0</td>\n",
       "      <td>0</td>\n",
       "      <td>0</td>\n",
       "      <td>0</td>\n",
       "      <td>0</td>\n",
       "      <td>0</td>\n",
       "    </tr>\n",
       "    <tr>\n",
       "      <th>101763</th>\n",
       "      <td>1</td>\n",
       "      <td>53</td>\n",
       "      <td>0</td>\n",
       "      <td>9</td>\n",
       "      <td>13</td>\n",
       "      <td>1</td>\n",
       "      <td>0</td>\n",
       "      <td>0</td>\n",
       "      <td>0</td>\n",
       "      <td>0</td>\n",
       "      <td>...</td>\n",
       "      <td>0</td>\n",
       "      <td>0</td>\n",
       "      <td>0</td>\n",
       "      <td>0</td>\n",
       "      <td>0</td>\n",
       "      <td>0</td>\n",
       "      <td>0</td>\n",
       "      <td>0</td>\n",
       "      <td>0</td>\n",
       "      <td>0</td>\n",
       "    </tr>\n",
       "    <tr>\n",
       "      <th>101764</th>\n",
       "      <td>10</td>\n",
       "      <td>45</td>\n",
       "      <td>2</td>\n",
       "      <td>21</td>\n",
       "      <td>9</td>\n",
       "      <td>0</td>\n",
       "      <td>0</td>\n",
       "      <td>0</td>\n",
       "      <td>0</td>\n",
       "      <td>0</td>\n",
       "      <td>...</td>\n",
       "      <td>0</td>\n",
       "      <td>0</td>\n",
       "      <td>0</td>\n",
       "      <td>0</td>\n",
       "      <td>0</td>\n",
       "      <td>0</td>\n",
       "      <td>0</td>\n",
       "      <td>0</td>\n",
       "      <td>0</td>\n",
       "      <td>0</td>\n",
       "    </tr>\n",
       "    <tr>\n",
       "      <th>101765</th>\n",
       "      <td>6</td>\n",
       "      <td>13</td>\n",
       "      <td>3</td>\n",
       "      <td>3</td>\n",
       "      <td>9</td>\n",
       "      <td>0</td>\n",
       "      <td>0</td>\n",
       "      <td>0</td>\n",
       "      <td>0</td>\n",
       "      <td>0</td>\n",
       "      <td>...</td>\n",
       "      <td>0</td>\n",
       "      <td>0</td>\n",
       "      <td>0</td>\n",
       "      <td>0</td>\n",
       "      <td>0</td>\n",
       "      <td>0</td>\n",
       "      <td>0</td>\n",
       "      <td>0</td>\n",
       "      <td>0</td>\n",
       "      <td>0</td>\n",
       "    </tr>\n",
       "  </tbody>\n",
       "</table>\n",
       "<p>67580 rows × 69 columns</p>\n",
       "</div>"
      ],
      "text/plain": [
       "        time_in_hospital  num_lab_procedures  num_procedures  num_medications  \\\n",
       "1                      3                  59               0               18   \n",
       "2                      2                  11               5               13   \n",
       "3                      2                  44               1               16   \n",
       "4                      1                  51               0                8   \n",
       "5                      3                  31               6               16   \n",
       "...                  ...                 ...             ...              ...   \n",
       "101761                 3                  51               0               16   \n",
       "101762                 5                  33               3               18   \n",
       "101763                 1                  53               0                9   \n",
       "101764                10                  45               2               21   \n",
       "101765                 6                  13               3                3   \n",
       "\n",
       "        number_diagnoses  metformin  repaglinide  nateglinide  chlorpropamide  \\\n",
       "1                      9          0            0            0               0   \n",
       "2                      6          0            0            0               0   \n",
       "3                      7          0            0            0               0   \n",
       "4                      5          0            0            0               0   \n",
       "5                      9          0            0            0               0   \n",
       "...                  ...        ...          ...          ...             ...   \n",
       "101761                 9          1            0            0               0   \n",
       "101762                 9          0            0            0               0   \n",
       "101763                13          1            0            0               0   \n",
       "101764                 9          0            0            0               0   \n",
       "101765                 9          0            0            0               0   \n",
       "\n",
       "        glimepiride  ...  admission_type_id_3  admission_type_id_4  \\\n",
       "1                 0  ...                    0                    0   \n",
       "2                 0  ...                    0                    0   \n",
       "3                 0  ...                    0                    0   \n",
       "4                 0  ...                    0                    0   \n",
       "5                 0  ...                    0                    0   \n",
       "...             ...  ...                  ...                  ...   \n",
       "101761            0  ...                    0                    0   \n",
       "101762            0  ...                    0                    0   \n",
       "101763            0  ...                    0                    0   \n",
       "101764            0  ...                    0                    0   \n",
       "101765            0  ...                    0                    0   \n",
       "\n",
       "        admission_type_id_5  admission_type_id_6  admission_type_id_7  \\\n",
       "1                         0                    0                    0   \n",
       "2                         0                    0                    0   \n",
       "3                         0                    0                    0   \n",
       "4                         0                    0                    0   \n",
       "5                         0                    0                    0   \n",
       "...                     ...                  ...                  ...   \n",
       "101761                    0                    0                    0   \n",
       "101762                    0                    0                    0   \n",
       "101763                    0                    0                    0   \n",
       "101764                    0                    0                    0   \n",
       "101765                    0                    0                    0   \n",
       "\n",
       "        admission_type_id_8  max_glu_serum_0  max_glu_serum_1  A1Cresult_0  \\\n",
       "1                         0                0                0            0   \n",
       "2                         0                0                0            0   \n",
       "3                         0                0                0            0   \n",
       "4                         0                0                0            0   \n",
       "5                         0                0                0            0   \n",
       "...                     ...              ...              ...          ...   \n",
       "101761                    0                0                0            0   \n",
       "101762                    0                0                0            0   \n",
       "101763                    0                0                0            0   \n",
       "101764                    0                0                0            0   \n",
       "101765                    0                0                0            0   \n",
       "\n",
       "        A1Cresult_1  \n",
       "1                 0  \n",
       "2                 0  \n",
       "3                 0  \n",
       "4                 0  \n",
       "5                 0  \n",
       "...             ...  \n",
       "101761            1  \n",
       "101762            0  \n",
       "101763            0  \n",
       "101764            0  \n",
       "101765            0  \n",
       "\n",
       "[67580 rows x 69 columns]"
      ]
     },
     "execution_count": 105,
     "metadata": {},
     "output_type": "execute_result"
    }
   ],
   "source": [
    "df._get_numeric_data()"
   ]
  },
  {
   "cell_type": "markdown",
   "metadata": {},
   "source": [
    "## Decision Tree"
   ]
  },
  {
   "cell_type": "code",
   "execution_count": 106,
   "metadata": {},
   "outputs": [],
   "source": [
    "feature_set_no_int = ['age', 'time_in_hospital', 'num_procedures', 'num_medications', 'number_outpatient_log1p', \n",
    "                 'number_emergency_log1p', 'number_inpatient_log1p', 'number_diagnoses', 'metformin', \n",
    "                 'repaglinide', 'nateglinide', 'chlorpropamide', 'glimepiride', 'glipizide', \n",
    "                 'glyburide', 'pioglitazone', 'rosiglitazone', 'acarbose', \n",
    "                 'tolazamide', 'insulin', 'glyburide-metformin',\n",
    "                 'AfricanAmerican', 'Asian', 'Caucasian', \n",
    "                 'Hispanic', 'Other', 'gender_1', \n",
    "                 'admission_type_id_3', 'admission_type_id_5', \n",
    "                 'discharge_disposition_id_2', 'discharge_disposition_id_7', \n",
    "                 'discharge_disposition_id_10', 'discharge_disposition_id_18', \n",
    "                 'admission_source_id_4', 'admission_source_id_7', \n",
    "                 'admission_source_id_9', 'max_glu_serum_0', \n",
    "                 'max_glu_serum_1', 'A1Cresult_0', 'A1Cresult_1', \n",
    "                 ]"
   ]
  },
  {
   "cell_type": "code",
   "execution_count": 107,
   "metadata": {},
   "outputs": [
    {
     "name": "stdout",
     "output_type": "stream",
     "text": [
      "Original dataset shape Counter({0: 64239, 1: 3341})\n",
      "New dataset shape Counter({0: 64239, 1: 64239})\n"
     ]
    }
   ],
   "source": [
    "print(f'Original dataset shape {Counter(y)}')\n",
    "smt = SMOTE(random_state=20)\n",
    "train_input_new, train_output_new = smt.fit_resample(X, y)\n",
    "print(f'New dataset shape {Counter(train_output_new)}')\n",
    "train_input_new = pd.DataFrame(train_input_new, columns = list(X.columns))\n",
    "X_train, X_test, y_train, y_test = train_test_split(train_input_new, train_output_new, test_size=0.20, random_state=0)"
   ]
  },
  {
   "cell_type": "code",
   "execution_count": 108,
   "metadata": {},
   "outputs": [
    {
     "data": {
      "text/plain": [
       "DecisionTreeClassifier(criterion='entropy', max_depth=28, min_samples_split=10)"
      ]
     },
     "execution_count": 108,
     "metadata": {},
     "output_type": "execute_result"
    }
   ],
   "source": [
    "from sklearn.tree import DecisionTreeClassifier\n",
    "dtree = DecisionTreeClassifier(max_depth=28, criterion = \"entropy\", min_samples_split=10)\n",
    "dtree.fit(X_train, y_train)"
   ]
  },
  {
   "cell_type": "code",
   "execution_count": 109,
   "metadata": {},
   "outputs": [],
   "source": [
    "dtree_pred = dtree.predict(X_test)\n"
   ]
  },
  {
   "cell_type": "code",
   "execution_count": 110,
   "metadata": {},
   "outputs": [
    {
     "name": "stdout",
     "output_type": "stream",
     "text": [
      "          pred:0  pred:1\n",
      "actual:0   12297     636\n",
      "actual:1     667   12096\n"
     ]
    }
   ],
   "source": [
    "cmtx = pd.DataFrame(\n",
    "    confusion_matrix(y_test, dtree_pred), \n",
    "    index=['actual:0', 'actual:1'], \n",
    "    columns=['pred:0', 'pred:1']\n",
    ")\n",
    "print(cmtx)"
   ]
  },
  {
   "cell_type": "code",
   "execution_count": 111,
   "metadata": {},
   "outputs": [
    {
     "name": "stdout",
     "output_type": "stream",
     "text": [
      "Accuracy is 0.95\n",
      "Precision is 0.95\n",
      "Recall is 0.95\n",
      "f1Score is 0.95\n"
     ]
    }
   ],
   "source": [
    "print(f\"Accuracy is {accuracy_score(y_test, dtree_pred):.2f}\")\n",
    "print(f\"Precision is {precision_score(y_test, dtree_pred):.2f}\")\n",
    "print(f\"Recall is {recall_score(y_test, dtree_pred):.2f}\")\n",
    "print(f\"f1Score is {f1_score(y_test, dtree_pred):.2f}\")\n"
   ]
  },
  {
   "cell_type": "code",
   "execution_count": 112,
   "metadata": {},
   "outputs": [
    {
     "name": "stdout",
     "output_type": "stream",
     "text": [
      "                         Feature  Importance\n",
      "5                num_medications    0.027158\n",
      "39   discharge_disposition_id_18    0.027681\n",
      "37    discharge_disposition_id_3    0.029992\n",
      "38    discharge_disposition_id_6    0.035772\n",
      "31                       num_med    0.036292\n",
      "3             num_lab_procedures    0.040726\n",
      "36    discharge_disposition_id_1    0.049694\n",
      "0                         gender    0.057302\n",
      "35  hospital_service_usage_log1p    0.062199\n",
      "34        number_inpatient_log1p    0.401089\n"
     ]
    },
    {
     "data": {
      "image/png": "[encoded data removed]",
      "text/plain": [
       "<Figure size 720x432 with 1 Axes>"
      ]
     },
     "metadata": {
      "needs_background": "light"
     },
     "output_type": "display_data"
    }
   ],
   "source": [
    "# features with most impact\n",
    "feature_names = X_train.columns\n",
    "feature_imports = dtree.feature_importances_\n",
    "most_imp_features = pd.DataFrame([f for f in zip(feature_names,feature_imports)], columns=[\"Feature\", \"Importance\"]).nlargest(10, \"Importance\")\n",
    "most_imp_features.sort_values(by=\"Importance\", inplace=True)\n",
    "print(most_imp_features)\n",
    "plt.figure(figsize=(10,6))\n",
    "plt.barh(range(len(most_imp_features)), most_imp_features.Importance, align='center', alpha=0.8)\n",
    "plt.yticks(range(len(most_imp_features)), most_imp_features.Feature, fontsize=14)\n",
    "plt.xlabel('Importance')\n",
    "plt.title('Most important features - Decision Tree')\n",
    "plt.show()"
   ]
  },
  {
   "cell_type": "markdown",
   "metadata": {},
   "source": [
    "## Random Forest"
   ]
  },
  {
   "cell_type": "code",
   "execution_count": 113,
   "metadata": {},
   "outputs": [
    {
     "name": "stdout",
     "output_type": "stream",
     "text": [
      "Original dataset shape Counter({0: 64239, 1: 3341})\n",
      "New dataset shape Counter({0: 64239, 1: 64239})\n"
     ]
    }
   ],
   "source": [
    "print(f'Original dataset shape {Counter(y)}')\n",
    "smt = SMOTE(random_state=20)\n",
    "train_input_new, train_output_new = smt.fit_resample(X, y)\n",
    "print(f'New dataset shape {Counter(train_output_new)}')\n",
    "train_input_new = pd.DataFrame(train_input_new, columns = list(X.columns))\n",
    "X_train, X_test, y_train, y_test = train_test_split(train_input_new, train_output_new, test_size=0.20, random_state=0)"
   ]
  },
  {
   "cell_type": "code",
   "execution_count": 114,
   "metadata": {},
   "outputs": [
    {
     "data": {
      "text/plain": [
       "RandomForestClassifier(max_depth=25, min_samples_split=10, n_estimators=10)"
      ]
     },
     "execution_count": 114,
     "metadata": {},
     "output_type": "execute_result"
    }
   ],
   "source": [
    "from sklearn.ensemble import RandomForestClassifier\n",
    "rm = RandomForestClassifier(n_estimators = 10, max_depth=25, criterion = \"gini\", min_samples_split=10)\n",
    "rm.fit(X_train, y_train)"
   ]
  },
  {
   "cell_type": "code",
   "execution_count": 115,
   "metadata": {},
   "outputs": [],
   "source": [
    "rm_prd = rm.predict(X_test)"
   ]
  },
  {
   "cell_type": "code",
   "execution_count": 116,
   "metadata": {},
   "outputs": [
    {
     "name": "stdout",
     "output_type": "stream",
     "text": [
      "          pred:0  pred:1\n",
      "actual:0   12845      88\n",
      "actual:1     741   12022\n"
     ]
    }
   ],
   "source": [
    "cmtx = pd.DataFrame(\n",
    "    confusion_matrix(y_test, rm_prd), \n",
    "    index=['actual:0', 'actual:1'], \n",
    "    columns=['pred:0', 'pred:1']\n",
    ")\n",
    "print(cmtx)"
   ]
  },
  {
   "cell_type": "code",
   "execution_count": 117,
   "metadata": {},
   "outputs": [
    {
     "name": "stdout",
     "output_type": "stream",
     "text": [
      "Accuracy is 0.97\n",
      "Precision is 0.99\n",
      "Recall is 0.94\n",
      "f1Score is 0.97\n"
     ]
    }
   ],
   "source": [
    "print(f\"Accuracy is {accuracy_score(y_test, rm_prd):.2f}\")\n",
    "print(f\"Precision is {precision_score(y_test, rm_prd):.2f}\")\n",
    "print(f\"Recall is {recall_score(y_test, rm_prd):.2f}\")\n",
    "print(f\"f1Score is {f1_score(y_test, rm_prd):.2f}\")\n"
   ]
  },
  {
   "cell_type": "code",
   "execution_count": 118,
   "metadata": {},
   "outputs": [
    {
     "data": {
      "image/png": "[encoded data removed]",
      "text/plain": [
       "<Figure size 720x432 with 1 Axes>"
      ]
     },
     "metadata": {
      "needs_background": "light"
     },
     "output_type": "display_data"
    }
   ],
   "source": [
    "# features with most impact\n",
    "feature_names = X_train.columns\n",
    "feature_imports = rm.feature_importances_\n",
    "most_imp_features = pd.DataFrame([f for f in zip(feature_names,feature_imports)], columns=[\"Feature\", \"Importance\"]).nlargest(10, \"Importance\")\n",
    "most_imp_features.sort_values(by=\"Importance\", inplace=True)\n",
    "plt.figure(figsize=(10,6))\n",
    "plt.barh(range(len(most_imp_features)), most_imp_features.Importance, align='center', alpha=0.8)\n",
    "plt.yticks(range(len(most_imp_features)), most_imp_features.Feature, fontsize=14)\n",
    "plt.xlabel('Importance')\n",
    "plt.title('Most important features - Random Forest ')\n",
    "plt.show()"
   ]
  },
  {
   "cell_type": "code",
   "execution_count": 119,
   "metadata": {},
   "outputs": [
    {
     "data": {
      "image/png": "[encoded data removed]",
      "text/plain": [
       "<Figure size 432x288 with 1 Axes>"
      ]
     },
     "metadata": {
      "needs_background": "light"
     },
     "output_type": "display_data"
    }
   ],
   "source": [
    "import sklearn.metrics as metrics\n",
    "# calculate the fpr and tpr for all thresholds of the classification\n",
    "probs = rm.predict_proba(X_test)\n",
    "preds = probs[:,1]\n",
    "fpr, tpr, threshold = metrics.roc_curve(y_test, preds)\n",
    "roc_auc = metrics.auc(fpr, tpr)\n",
    "\n",
    "# plotting the curve\n",
    "plt.title('Receiver Operating Characteristic')\n",
    "plt.plot(fpr, tpr, 'b', label = f'AUC = {roc_auc:.2f}')\n",
    "plt.legend(loc = 'lower right')\n",
    "plt.plot([0, 1], [0, 1],'r--')\n",
    "plt.xlim([-0.01, 1])\n",
    "plt.ylim([0, 1])\n",
    "plt.ylabel('True Positive Rate')\n",
    "plt.xlabel('False Positive Rate')\n",
    "plt.show()"
   ]
  },
  {
   "cell_type": "markdown",
   "metadata": {},
   "source": [
    "The closer the curve reaching point 1 on the top left of the curve, the better the model is since we maximize correct predictions and minimize incorrect ones"
   ]
  },
  {
   "cell_type": "markdown",
   "metadata": {},
   "source": [
    "# XGBoost"
   ]
  },
  {
   "cell_type": "markdown",
   "metadata": {},
   "source": [
    "Before proceding we need to change the object type columns"
   ]
  },
  {
   "cell_type": "code",
   "execution_count": 120,
   "metadata": {},
   "outputs": [
    {
     "data": {
      "text/plain": [
       "Index(['gender', 'age', 'num_med'], dtype='object')"
      ]
     },
     "execution_count": 120,
     "metadata": {},
     "output_type": "execute_result"
    }
   ],
   "source": [
    "object_columns = X.loc[:, df.dtypes == object].columns\n",
    "object_columns"
   ]
  },
  {
   "cell_type": "code",
   "execution_count": 121,
   "metadata": {},
   "outputs": [
    {
     "name": "stdout",
     "output_type": "stream",
     "text": [
      "gender\n",
      "age\n",
      "num_med\n"
     ]
    },
    {
     "name": "stderr",
     "output_type": "stream",
     "text": [
      "<ipython-input-121-10d7f85ccf9b>:3: SettingWithCopyWarning: \n",
      "A value is trying to be set on a copy of a slice from a DataFrame.\n",
      "Try using .loc[row_indexer,col_indexer] = value instead\n",
      "\n",
      "See the caveats in the documentation: https://pandas.pydata.org/pandas-docs/stable/user_guide/indexing.html#returning-a-view-versus-a-copy\n",
      "  X[col] = pd.to_numeric(X[col])\n"
     ]
    }
   ],
   "source": [
    "for col in object_columns:\n",
    "    print(col)\n",
    "    X[col] = pd.to_numeric(X[col])"
   ]
  },
  {
   "cell_type": "code",
   "execution_count": 122,
   "metadata": {},
   "outputs": [
    {
     "name": "stdout",
     "output_type": "stream",
     "text": [
      "New dataset shape Counter({0: 64239, 1: 64239})\n"
     ]
    }
   ],
   "source": [
    "import xgboost as xgb\n",
    "smt = SMOTE(random_state=20)\n",
    "train_input_new, train_output_new = smt.fit_resample(X, y)\n",
    "print(f'New dataset shape {Counter(train_output_new)}')\n",
    "train_input_new = pd.DataFrame(train_input_new, columns = list(X.columns))\n",
    "X_train, X_test, y_train, y_test = train_test_split(train_input_new, train_output_new, test_size=0.20, random_state=0)\n"
   ]
  },
  {
   "cell_type": "code",
   "execution_count": 123,
   "metadata": {
    "scrolled": true
   },
   "outputs": [
    {
     "data": {
      "text/plain": [
       "XGBClassifier(base_score=0.5, booster='gbtree', colsample_bylevel=1,\n",
       "              colsample_bynode=1, colsample_bytree=1, gamma=0, gpu_id=-1,\n",
       "              importance_type='gain', interaction_constraints='',\n",
       "              learning_rate=0.300000012, max_delta_step=0, max_depth=10,\n",
       "              min_child_weight=1, missing=nan, monotone_constraints='()',\n",
       "              n_estimators=100, n_jobs=0, num_parallel_tree=1, random_state=0,\n",
       "              reg_alpha=0, reg_lambda=1, scale_pos_weight=1, subsample=1,\n",
       "              tree_method='exact', validate_parameters=1, verbosity=None)"
      ]
     },
     "execution_count": 123,
     "metadata": {},
     "output_type": "execute_result"
    }
   ],
   "source": [
    "xgb_model = xgb.XGBClassifier(max_depth=10,n_estimators=100)\n",
    "xgb_model.fit(X_train,y_train)"
   ]
  },
  {
   "cell_type": "code",
   "execution_count": 124,
   "metadata": {},
   "outputs": [
    {
     "data": {
      "text/plain": [
       "array([0, 1, 0, ..., 0, 1, 0], dtype=int64)"
      ]
     },
     "execution_count": 124,
     "metadata": {},
     "output_type": "execute_result"
    }
   ],
   "source": [
    "xgb_pred=xgb_model.predict(X_test)\n",
    "xgb_pred"
   ]
  },
  {
   "cell_type": "code",
   "execution_count": 125,
   "metadata": {},
   "outputs": [
    {
     "name": "stdout",
     "output_type": "stream",
     "text": [
      "          pred:0  pred:1\n",
      "actual:0   12746     187\n",
      "actual:1     721   12042\n"
     ]
    }
   ],
   "source": [
    "cmtx = pd.DataFrame(\n",
    "    confusion_matrix(y_test, xgb_pred), \n",
    "    index=['actual:0', 'actual:1'], \n",
    "    columns=['pred:0', 'pred:1']\n",
    ")\n",
    "print(cmtx)"
   ]
  },
  {
   "cell_type": "code",
   "execution_count": 126,
   "metadata": {},
   "outputs": [
    {
     "name": "stdout",
     "output_type": "stream",
     "text": [
      "Accuracy is 0.96\n",
      "Precision is 0.98\n",
      "Recall is 0.94\n",
      "f1Score is 0.96\n"
     ]
    }
   ],
   "source": [
    "print(f\"Accuracy is {accuracy_score(y_test, xgb_pred):.2f}\")\n",
    "print(f\"Precision is {precision_score(y_test, xgb_pred):.2f}\")\n",
    "print(f\"Recall is {recall_score(y_test, xgb_pred):.2f}\")\n",
    "print(f\"f1Score is {f1_score(y_test, xgb_pred):.2f}\")"
   ]
  },
  {
   "cell_type": "code",
   "execution_count": 127,
   "metadata": {},
   "outputs": [
    {
     "data": {
      "image/png": "[encoded data removed]",
      "text/plain": [
       "<Figure size 720x432 with 1 Axes>"
      ]
     },
     "metadata": {
      "needs_background": "light"
     },
     "output_type": "display_data"
    }
   ],
   "source": [
    "# features with most impact\n",
    "feature_names = X_train.columns\n",
    "feature_imports = xgb_model.feature_importances_\n",
    "most_imp_features = pd.DataFrame([f for f in zip(feature_names,feature_imports)], columns=[\"Feature\", \"Importance\"]).nlargest(10, \"Importance\")\n",
    "most_imp_features.sort_values(by=\"Importance\", inplace=True)\n",
    "plt.figure(figsize=(10,6))\n",
    "plt.barh(range(len(most_imp_features)), most_imp_features.Importance, align='center', alpha=0.8)\n",
    "plt.yticks(range(len(most_imp_features)), most_imp_features.Feature, fontsize=14)\n",
    "plt.xlabel('Importance')\n",
    "plt.title('Most important features - XGB Classifier ')\n",
    "plt.show()"
   ]
  },
  {
   "cell_type": "markdown",
   "metadata": {},
   "source": [
    "# Artificial Neural Network"
   ]
  },
  {
   "cell_type": "code",
   "execution_count": 128,
   "metadata": {
    "collapsed": true
   },
   "outputs": [
    {
     "name": "stdout",
     "output_type": "stream",
     "text": [
      "Epoch 1/100\n",
      "4112/4112 [==============================] - 4s 764us/step - loss: 0.4550 - accuracy: 0.7483\n",
      "Epoch 2/100\n",
      "4112/4112 [==============================] - 3s 779us/step - loss: 0.2680 - accuracy: 0.8956\n",
      "Epoch 3/100\n",
      "4112/4112 [==============================] - 3s 773us/step - loss: 0.2542 - accuracy: 0.9022\n",
      "Epoch 4/100\n",
      "4112/4112 [==============================] - 3s 760us/step - loss: 0.2486 - accuracy: 0.9037\n",
      "Epoch 5/100\n",
      "4112/4112 [==============================] - 3s 773us/step - loss: 0.2458 - accuracy: 0.9051\n",
      "Epoch 6/100\n",
      "4112/4112 [==============================] - 3s 763us/step - loss: 0.2429 - accuracy: 0.9059\n",
      "Epoch 7/100\n",
      "4112/4112 [==============================] - 3s 781us/step - loss: 0.2410 - accuracy: 0.9070\n",
      "Epoch 8/100\n",
      "4112/4112 [==============================] - 3s 798us/step - loss: 0.2391 - accuracy: 0.9073\n",
      "Epoch 9/100\n",
      "4112/4112 [==============================] - 3s 770us/step - loss: 0.2398 - accuracy: 0.9067\n",
      "Epoch 10/100\n",
      "4112/4112 [==============================] - 3s 768us/step - loss: 0.2383 - accuracy: 0.9076\n",
      "Epoch 11/100\n",
      "4112/4112 [==============================] - 3s 775us/step - loss: 0.2387 - accuracy: 0.9074\n",
      "Epoch 12/100\n",
      "4112/4112 [==============================] - 3s 786us/step - loss: 0.2388 - accuracy: 0.9073\n",
      "Epoch 13/100\n",
      "4112/4112 [==============================] - 3s 764us/step - loss: 0.2377 - accuracy: 0.9074\n",
      "Epoch 14/100\n",
      "4112/4112 [==============================] - 3s 785us/step - loss: 0.2371 - accuracy: 0.9074\n",
      "Epoch 15/100\n",
      "4112/4112 [==============================] - 3s 763us/step - loss: 0.2367 - accuracy: 0.9079\n",
      "Epoch 16/100\n",
      "4112/4112 [==============================] - 3s 772us/step - loss: 0.2359 - accuracy: 0.9083\n",
      "Epoch 17/100\n",
      "4112/4112 [==============================] - 3s 772us/step - loss: 0.2342 - accuracy: 0.9080\n",
      "Epoch 18/100\n",
      "4112/4112 [==============================] - 3s 765us/step - loss: 0.2333 - accuracy: 0.9075\n",
      "Epoch 19/100\n",
      "4112/4112 [==============================] - 3s 780us/step - loss: 0.2325 - accuracy: 0.9075\n",
      "Epoch 20/100\n",
      "4112/4112 [==============================] - 3s 779us/step - loss: 0.2313 - accuracy: 0.9085\n",
      "Epoch 21/100\n",
      "4112/4112 [==============================] - 3s 806us/step - loss: 0.2304 - accuracy: 0.9086\n",
      "Epoch 22/100\n",
      "4112/4112 [==============================] - 3s 766us/step - loss: 0.2301 - accuracy: 0.9080\n",
      "Epoch 23/100\n",
      "4112/4112 [==============================] - 3s 773us/step - loss: 0.2303 - accuracy: 0.9085\n",
      "Epoch 24/100\n",
      "4112/4112 [==============================] - 3s 774us/step - loss: 0.2287 - accuracy: 0.9091\n",
      "Epoch 25/100\n",
      "4112/4112 [==============================] - 3s 768us/step - loss: 0.2288 - accuracy: 0.9091\n",
      "Epoch 26/100\n",
      "4112/4112 [==============================] - 3s 774us/step - loss: 0.2289 - accuracy: 0.9087\n",
      "Epoch 27/100\n",
      "4112/4112 [==============================] - 3s 797us/step - loss: 0.2289 - accuracy: 0.9087\n",
      "Epoch 28/100\n",
      "4112/4112 [==============================] - 3s 775us/step - loss: 0.2286 - accuracy: 0.9092\n",
      "Epoch 29/100\n",
      "4112/4112 [==============================] - 3s 770us/step - loss: 0.2281 - accuracy: 0.9093\n",
      "Epoch 30/100\n",
      "4112/4112 [==============================] - 3s 776us/step - loss: 0.2280 - accuracy: 0.9091\n",
      "Epoch 31/100\n",
      "4112/4112 [==============================] - 3s 785us/step - loss: 0.2282 - accuracy: 0.9100\n",
      "Epoch 32/100\n",
      "4112/4112 [==============================] - 3s 769us/step - loss: 0.2275 - accuracy: 0.9099\n",
      "Epoch 33/100\n",
      "4112/4112 [==============================] - 3s 772us/step - loss: 0.2279 - accuracy: 0.9097\n",
      "Epoch 34/100\n",
      "4112/4112 [==============================] - 3s 794us/step - loss: 0.2279 - accuracy: 0.9095\n",
      "Epoch 35/100\n",
      "4112/4112 [==============================] - 3s 774us/step - loss: 0.2273 - accuracy: 0.9101\n",
      "Epoch 36/100\n",
      "4112/4112 [==============================] - 3s 768us/step - loss: 0.2271 - accuracy: 0.9097\n",
      "Epoch 37/100\n",
      "4112/4112 [==============================] - 3s 775us/step - loss: 0.2277 - accuracy: 0.9097\n",
      "Epoch 38/100\n",
      "4112/4112 [==============================] - 3s 761us/step - loss: 0.2273 - accuracy: 0.9097\n",
      "Epoch 39/100\n",
      "4112/4112 [==============================] - 3s 770us/step - loss: 0.2268 - accuracy: 0.9098\n",
      "Epoch 40/100\n",
      "4112/4112 [==============================] - 3s 801us/step - loss: 0.2266 - accuracy: 0.9102\n",
      "Epoch 41/100\n",
      "4112/4112 [==============================] - 3s 773us/step - loss: 0.2266 - accuracy: 0.9103\n",
      "Epoch 42/100\n",
      "4112/4112 [==============================] - 3s 780us/step - loss: 0.2271 - accuracy: 0.9102\n",
      "Epoch 43/100\n",
      "4112/4112 [==============================] - 3s 773us/step - loss: 0.2265 - accuracy: 0.9097\n",
      "Epoch 44/100\n",
      "4112/4112 [==============================] - 3s 768us/step - loss: 0.2266 - accuracy: 0.9103\n",
      "Epoch 45/100\n",
      "4112/4112 [==============================] - 3s 776us/step - loss: 0.2265 - accuracy: 0.9102\n",
      "Epoch 46/100\n",
      "4112/4112 [==============================] - 3s 794us/step - loss: 0.2261 - accuracy: 0.9104\n",
      "Epoch 47/100\n",
      "4112/4112 [==============================] - 3s 769us/step - loss: 0.2268 - accuracy: 0.9098\n",
      "Epoch 48/100\n",
      "4112/4112 [==============================] - 3s 774us/step - loss: 0.2265 - accuracy: 0.9102\n",
      "Epoch 49/100\n",
      "4112/4112 [==============================] - 3s 769us/step - loss: 0.2260 - accuracy: 0.9105\n",
      "Epoch 50/100\n",
      "4112/4112 [==============================] - 3s 764us/step - loss: 0.2254 - accuracy: 0.9110\n",
      "Epoch 51/100\n",
      "4112/4112 [==============================] - 3s 782us/step - loss: 0.2259 - accuracy: 0.9106\n",
      "Epoch 52/100\n",
      "4112/4112 [==============================] - 3s 776us/step - loss: 0.2255 - accuracy: 0.9108\n",
      "Epoch 53/100\n",
      "4112/4112 [==============================] - 3s 789us/step - loss: 0.2261 - accuracy: 0.9105\n",
      "Epoch 54/100\n",
      "4112/4112 [==============================] - 3s 764us/step - loss: 0.2257 - accuracy: 0.9107\n",
      "Epoch 55/100\n",
      "4112/4112 [==============================] - 3s 768us/step - loss: 0.2256 - accuracy: 0.9104\n",
      "Epoch 56/100\n",
      "4112/4112 [==============================] - 3s 770us/step - loss: 0.2258 - accuracy: 0.9108\n",
      "Epoch 57/100\n",
      "4112/4112 [==============================] - 3s 753us/step - loss: 0.2256 - accuracy: 0.9117\n",
      "Epoch 58/100\n",
      "4112/4112 [==============================] - 3s 774us/step - loss: 0.2256 - accuracy: 0.9104\n",
      "Epoch 59/100\n",
      "4112/4112 [==============================] - 3s 785us/step - loss: 0.2256 - accuracy: 0.9107\n",
      "Epoch 60/100\n",
      "4112/4112 [==============================] - 3s 778us/step - loss: 0.2255 - accuracy: 0.9107\n",
      "Epoch 61/100\n",
      "4112/4112 [==============================] - 3s 774us/step - loss: 0.2260 - accuracy: 0.9108\n",
      "Epoch 62/100\n",
      "4112/4112 [==============================] - 3s 765us/step - loss: 0.2260 - accuracy: 0.9111\n",
      "Epoch 63/100\n",
      "4112/4112 [==============================] - 3s 769us/step - loss: 0.2248 - accuracy: 0.9114\n",
      "Epoch 64/100\n",
      "4112/4112 [==============================] - 3s 772us/step - loss: 0.2254 - accuracy: 0.9110\n",
      "Epoch 65/100\n",
      "4112/4112 [==============================] - 3s 795us/step - loss: 0.2249 - accuracy: 0.9116\n",
      "Epoch 66/100\n",
      "4112/4112 [==============================] - 3s 784us/step - loss: 0.2249 - accuracy: 0.9115\n",
      "Epoch 67/100\n",
      "4112/4112 [==============================] - 3s 771us/step - loss: 0.2250 - accuracy: 0.9109\n",
      "Epoch 68/100\n",
      "4112/4112 [==============================] - 3s 773us/step - loss: 0.2251 - accuracy: 0.9105\n",
      "Epoch 69/100\n",
      "4112/4112 [==============================] - 3s 775us/step - loss: 0.2251 - accuracy: 0.9111\n",
      "Epoch 70/100\n",
      "4112/4112 [==============================] - 3s 776us/step - loss: 0.2251 - accuracy: 0.9115\n",
      "Epoch 71/100\n",
      "4112/4112 [==============================] - 3s 763us/step - loss: 0.2251 - accuracy: 0.9110\n",
      "Epoch 72/100\n",
      "4112/4112 [==============================] - 3s 784us/step - loss: 0.2249 - accuracy: 0.9115\n",
      "Epoch 73/100\n",
      "4112/4112 [==============================] - 3s 760us/step - loss: 0.2253 - accuracy: 0.9115\n",
      "Epoch 74/100\n",
      "4112/4112 [==============================] - 3s 762us/step - loss: 0.2246 - accuracy: 0.9114\n",
      "Epoch 75/100\n",
      "4112/4112 [==============================] - 3s 765us/step - loss: 0.2244 - accuracy: 0.9113\n",
      "Epoch 76/100\n",
      "4112/4112 [==============================] - 3s 771us/step - loss: 0.2243 - accuracy: 0.9119\n",
      "Epoch 77/100\n",
      "4112/4112 [==============================] - 3s 769us/step - loss: 0.2246 - accuracy: 0.9119\n",
      "Epoch 78/100\n"
     ]
    },
    {
     "name": "stdout",
     "output_type": "stream",
     "text": [
      "4112/4112 [==============================] - 3s 798us/step - loss: 0.2243 - accuracy: 0.9122\n",
      "Epoch 79/100\n",
      "4112/4112 [==============================] - 3s 775us/step - loss: 0.2247 - accuracy: 0.9113\n",
      "Epoch 80/100\n",
      "4112/4112 [==============================] - 3s 763us/step - loss: 0.2244 - accuracy: 0.9117\n",
      "Epoch 81/100\n",
      "4112/4112 [==============================] - 3s 775us/step - loss: 0.2245 - accuracy: 0.9110\n",
      "Epoch 82/100\n",
      "4112/4112 [==============================] - 3s 772us/step - loss: 0.2241 - accuracy: 0.9119\n",
      "Epoch 83/100\n",
      "4112/4112 [==============================] - 3s 778us/step - loss: 0.2240 - accuracy: 0.9120\n",
      "Epoch 84/100\n",
      "4112/4112 [==============================] - 3s 789us/step - loss: 0.2244 - accuracy: 0.9115\n",
      "Epoch 85/100\n",
      "4112/4112 [==============================] - 3s 775us/step - loss: 0.2244 - accuracy: 0.9115\n",
      "Epoch 86/100\n",
      "4112/4112 [==============================] - 3s 765us/step - loss: 0.2245 - accuracy: 0.9119\n",
      "Epoch 87/100\n",
      "4112/4112 [==============================] - 3s 783us/step - loss: 0.2238 - accuracy: 0.9128\n",
      "Epoch 88/100\n",
      "4112/4112 [==============================] - 3s 774us/step - loss: 0.2240 - accuracy: 0.9118\n",
      "Epoch 89/100\n",
      "4112/4112 [==============================] - 3s 781us/step - loss: 0.2240 - accuracy: 0.9118\n",
      "Epoch 90/100\n",
      "4112/4112 [==============================] - 3s 778us/step - loss: 0.2242 - accuracy: 0.9113\n",
      "Epoch 91/100\n",
      "4112/4112 [==============================] - 3s 786us/step - loss: 0.2243 - accuracy: 0.9120\n",
      "Epoch 92/100\n",
      "4112/4112 [==============================] - 3s 770us/step - loss: 0.2243 - accuracy: 0.9110\n",
      "Epoch 93/100\n",
      "4112/4112 [==============================] - 3s 768us/step - loss: 0.2241 - accuracy: 0.9118\n",
      "Epoch 94/100\n",
      "4112/4112 [==============================] - 3s 771us/step - loss: 0.2243 - accuracy: 0.9120\n",
      "Epoch 95/100\n",
      "4112/4112 [==============================] - 3s 765us/step - loss: 0.2240 - accuracy: 0.9121\n",
      "Epoch 96/100\n",
      "4112/4112 [==============================] - 3s 774us/step - loss: 0.2237 - accuracy: 0.9126\n",
      "Epoch 97/100\n",
      "4112/4112 [==============================] - 3s 785us/step - loss: 0.2239 - accuracy: 0.9120\n",
      "Epoch 98/100\n",
      "4112/4112 [==============================] - 3s 769us/step - loss: 0.2238 - accuracy: 0.9123\n",
      "Epoch 99/100\n",
      "4112/4112 [==============================] - 3s 774us/step - loss: 0.2238 - accuracy: 0.9123\n",
      "Epoch 100/100\n",
      "4112/4112 [==============================] - 3s 765us/step - loss: 0.2237 - accuracy: 0.9119\n",
      "3212/3212 [==============================] - 2s 587us/step - loss: 0.2205 - accuracy: 0.9140\n",
      "\n",
      "accuracy: 91.40\n"
     ]
    }
   ],
   "source": [
    "from tensorflow.keras.models import Sequential\n",
    "from tensorflow.keras.layers import Dense\n",
    "\n",
    "# Model\n",
    "model = Sequential()\n",
    "model.add(Dense(4, input_dim=71, activation='relu', name = 'input_layer'))\n",
    "model.add(Dense(10, activation='relu', name = 'hidden_layer'))\n",
    "model.add(Dense(1, activation='sigmoid', name = 'output_layer'))\n",
    "\n",
    "# Compile\n",
    "model.compile(loss='binary_crossentropy', optimizer='adam', metrics=['accuracy'])\n",
    "\n",
    "# Fit\n",
    "model.fit(X_train, y_train, epochs=100, batch_size=25)\n",
    "\n",
    "# Evaluation\n",
    "scores = model.evaluate(X_train, y_train)\n",
    "print(f'\\n{model.metrics_names[1]}: {(scores[1]*100):.2f}')\n"
   ]
  },
  {
   "cell_type": "code",
   "execution_count": 129,
   "metadata": {},
   "outputs": [],
   "source": [
    "nn_pred = model.predict(X_test)"
   ]
  },
  {
   "cell_type": "code",
   "execution_count": 130,
   "metadata": {},
   "outputs": [],
   "source": [
    "rounded = [round(z[0]) for z in nn_pred]\n",
    "nn_pred = rounded"
   ]
  },
  {
   "cell_type": "code",
   "execution_count": 131,
   "metadata": {},
   "outputs": [
    {
     "name": "stdout",
     "output_type": "stream",
     "text": [
      "          pred:0  pred:1\n",
      "actual:0   12262     671\n",
      "actual:1    1588   11175\n"
     ]
    }
   ],
   "source": [
    "cmtx = pd.DataFrame(\n",
    "    confusion_matrix(y_test, nn_pred), \n",
    "    index=['actual:0', 'actual:1'], \n",
    "    columns=['pred:0', 'pred:1']\n",
    ")\n",
    "print(cmtx)"
   ]
  },
  {
   "cell_type": "code",
   "execution_count": 132,
   "metadata": {},
   "outputs": [
    {
     "name": "stdout",
     "output_type": "stream",
     "text": [
      "Accuracy is 0.91\n",
      "Precision is 0.94\n",
      "Recall is 0.88\n",
      "f1Score is 0.91\n"
     ]
    }
   ],
   "source": [
    "print(f\"Accuracy is {accuracy_score(y_test, nn_pred):.2f}\")\n",
    "print(f\"Precision is {precision_score(y_test, nn_pred):.2f}\")\n",
    "print(f\"Recall is {recall_score(y_test, nn_pred):.2f}\")\n",
    "print(f\"f1Score is {f1_score(y_test, nn_pred):.2f}\")\n"
   ]
  }
 ],
 "metadata": {
  "kernelspec": {
   "display_name": "Python 3",
   "language": "python",
   "name": "python3"
  },
  "language_info": {
   "codemirror_mode": {
    "name": "ipython",
    "version": 3
   },
   "file_extension": ".py",
   "mimetype": "text/x-python",
   "name": "python",
   "nbconvert_exporter": "python",
   "pygments_lexer": "ipython3",
   "version": "3.8.6"
  }
 },
 "nbformat": 4,
 "nbformat_minor": 4
}
